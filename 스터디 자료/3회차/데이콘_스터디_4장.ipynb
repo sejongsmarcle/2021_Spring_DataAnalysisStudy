{
  "nbformat": 4,
  "nbformat_minor": 0,
  "metadata": {
    "accelerator": "GPU",
    "colab": {
      "name": "데이콘 스터디 4장.ipynb",
      "provenance": [],
      "collapsed_sections": []
    },
    "kernelspec": {
      "display_name": "Python 3",
      "name": "python3"
    },
    "language_info": {
      "name": "python"
    }
  },
  "cells": [
    {
      "cell_type": "markdown",
      "metadata": {
        "id": "Chy6qoMqA9Er"
      },
      "source": [
        "#**04장 상점 신용카드 매출 예측 경진대회**"
      ]
    },
    {
      "cell_type": "markdown",
      "metadata": {
        "id": "Z6Ru8_mTCCBq"
      },
      "source": [
        "##**4.1 문제 정의**"
      ]
    },
    {
      "cell_type": "markdown",
      "metadata": {
        "id": "K5NaxFH2CI8E"
      },
      "source": [
        "###**4.1.1 경진대회 소개**"
      ]
    },
    {
      "cell_type": "markdown",
      "metadata": {
        "id": "_b8wGOU9BHEt"
      },
      "source": [
        "- **목적**:2016.6.1부터 2019.2.28까지의 신용카드 매출 데이터를 가지고 2019.3.1부터 2019.5.31까지의 상점별 3개월 총매출을 예측"
      ]
    },
    {
      "cell_type": "code",
      "metadata": {
        "colab": {
          "base_uri": "https://localhost:8080/"
        },
        "id": "CePW1d_h2wFA",
        "outputId": "0f4cb124-9c07-4c5e-8bab-e553c3cd5360"
      },
      "source": [
        "from google.colab import drive\n",
        "drive.mount('/content/drive')"
      ],
      "execution_count": null,
      "outputs": [
        {
          "output_type": "stream",
          "text": [
            "Drive already mounted at /content/drive; to attempt to forcibly remount, call drive.mount(\"/content/drive\", force_remount=True).\n"
          ],
          "name": "stdout"
        }
      ]
    },
    {
      "cell_type": "markdown",
      "metadata": {
        "id": "Dwpj8poMCdB7"
      },
      "source": [
        "###**4.1.2 평가척도**"
      ]
    },
    {
      "cell_type": "markdown",
      "metadata": {
        "id": "8lEXl_DOCjfi"
      },
      "source": [
        "- **시계열 회귀 분석**\n",
        "- **MAE**: 실제값과 예측값의 차이에 절댓값을 취하고 평균값을 계산한 손실함수 "
      ]
    },
    {
      "cell_type": "markdown",
      "metadata": {
        "id": "82O9j7pfDvhp"
      },
      "source": [
        "\n",
        "####**베이스라인 코드**\n",
        "- [베이스라인 코드](https://dacon.io/competitions/official/140472/codeshare/1734?page=1&dtype=recent)"
      ]
    },
    {
      "cell_type": "markdown",
      "metadata": {
        "id": "qAQMMNVs812p"
      },
      "source": [
        "###**4.1.3 대회 관련 사전 조사**\n"
      ]
    },
    {
      "cell_type": "markdown",
      "metadata": {
        "id": "k8M3BAhYE7J3"
      },
      "source": [
        "**상점 매출을 예측할 때 중요한 도메인**\n",
        "1. 자영업자\n",
        "2. 카드사 직원\n",
        "3. 고객"
      ]
    },
    {
      "cell_type": "markdown",
      "metadata": {
        "id": "32aIdF59FLc0"
      },
      "source": [
        "###**4.1.4 문제 해결을 위한 접근 방식**"
      ]
    },
    {
      "cell_type": "code",
      "metadata": {
        "id": "aaClr2TH4PDi"
      },
      "source": [
        "import pandas as pd\n",
        "import warnings #분석에 문제가 없는 경고 메세지 숨김\n",
        "warnings.filterwarnings(\"ignore\")"
      ],
      "execution_count": null,
      "outputs": []
    },
    {
      "cell_type": "markdown",
      "metadata": {
        "id": "pYxOqCNEIamQ"
      },
      "source": [
        "####**드라이브 마운트로 데이터 불러오기**\n",
        "\n",
        "*   train.csv\n",
        "*   submission.csv\n"
      ]
    },
    {
      "cell_type": "code",
      "metadata": {
        "id": "kIALEjInF3lg"
      },
      "source": [
        "train=pd.read_csv('/content/drive/MyDrive/data09/funda_train.csv')\n",
        "submission=pd.read_csv('/content/drive/MyDrive/data09/submission.csv')"
      ],
      "execution_count": null,
      "outputs": []
    },
    {
      "cell_type": "markdown",
      "metadata": {
        "id": "Ejm4O8v2KUMj"
      },
      "source": [
        "####**데이터 살펴보기**"
      ]
    },
    {
      "cell_type": "code",
      "metadata": {
        "id": "DmE8ITcsIFW0",
        "colab": {
          "base_uri": "https://localhost:8080/"
        },
        "outputId": "31f2dcd4-d2aa-44b2-cad5-8aaad8cd8a55"
      },
      "source": [
        "train.shape"
      ],
      "execution_count": null,
      "outputs": [
        {
          "output_type": "execute_result",
          "data": {
            "text/plain": [
              "(6556613, 9)"
            ]
          },
          "metadata": {
            "tags": []
          },
          "execution_count": 5
        }
      ]
    },
    {
      "cell_type": "code",
      "metadata": {
        "id": "evRA6wo3ISmU",
        "colab": {
          "base_uri": "https://localhost:8080/",
          "height": 222
        },
        "outputId": "a1c6c9be-dbf0-4a87-ed49-0fd1d09e63a1"
      },
      "source": [
        "train.head()"
      ],
      "execution_count": null,
      "outputs": [
        {
          "output_type": "execute_result",
          "data": {
            "text/html": [
              "<div>\n",
              "<style scoped>\n",
              "    .dataframe tbody tr th:only-of-type {\n",
              "        vertical-align: middle;\n",
              "    }\n",
              "\n",
              "    .dataframe tbody tr th {\n",
              "        vertical-align: top;\n",
              "    }\n",
              "\n",
              "    .dataframe thead th {\n",
              "        text-align: right;\n",
              "    }\n",
              "</style>\n",
              "<table border=\"1\" class=\"dataframe\">\n",
              "  <thead>\n",
              "    <tr style=\"text-align: right;\">\n",
              "      <th></th>\n",
              "      <th>store_id</th>\n",
              "      <th>card_id</th>\n",
              "      <th>card_company</th>\n",
              "      <th>transacted_date</th>\n",
              "      <th>transacted_time</th>\n",
              "      <th>installment_term</th>\n",
              "      <th>region</th>\n",
              "      <th>type_of_business</th>\n",
              "      <th>amount</th>\n",
              "    </tr>\n",
              "  </thead>\n",
              "  <tbody>\n",
              "    <tr>\n",
              "      <th>0</th>\n",
              "      <td>0</td>\n",
              "      <td>0</td>\n",
              "      <td>b</td>\n",
              "      <td>2016-06-01</td>\n",
              "      <td>13:13</td>\n",
              "      <td>0</td>\n",
              "      <td>NaN</td>\n",
              "      <td>기타 미용업</td>\n",
              "      <td>1857.142857</td>\n",
              "    </tr>\n",
              "    <tr>\n",
              "      <th>1</th>\n",
              "      <td>0</td>\n",
              "      <td>1</td>\n",
              "      <td>h</td>\n",
              "      <td>2016-06-01</td>\n",
              "      <td>18:12</td>\n",
              "      <td>0</td>\n",
              "      <td>NaN</td>\n",
              "      <td>기타 미용업</td>\n",
              "      <td>857.142857</td>\n",
              "    </tr>\n",
              "    <tr>\n",
              "      <th>2</th>\n",
              "      <td>0</td>\n",
              "      <td>2</td>\n",
              "      <td>c</td>\n",
              "      <td>2016-06-01</td>\n",
              "      <td>18:52</td>\n",
              "      <td>0</td>\n",
              "      <td>NaN</td>\n",
              "      <td>기타 미용업</td>\n",
              "      <td>2000.000000</td>\n",
              "    </tr>\n",
              "    <tr>\n",
              "      <th>3</th>\n",
              "      <td>0</td>\n",
              "      <td>3</td>\n",
              "      <td>a</td>\n",
              "      <td>2016-06-01</td>\n",
              "      <td>20:22</td>\n",
              "      <td>0</td>\n",
              "      <td>NaN</td>\n",
              "      <td>기타 미용업</td>\n",
              "      <td>7857.142857</td>\n",
              "    </tr>\n",
              "    <tr>\n",
              "      <th>4</th>\n",
              "      <td>0</td>\n",
              "      <td>4</td>\n",
              "      <td>c</td>\n",
              "      <td>2016-06-02</td>\n",
              "      <td>11:06</td>\n",
              "      <td>0</td>\n",
              "      <td>NaN</td>\n",
              "      <td>기타 미용업</td>\n",
              "      <td>2000.000000</td>\n",
              "    </tr>\n",
              "  </tbody>\n",
              "</table>\n",
              "</div>"
            ],
            "text/plain": [
              "   store_id  card_id card_company  ... region type_of_business       amount\n",
              "0         0        0            b  ...    NaN           기타 미용업  1857.142857\n",
              "1         0        1            h  ...    NaN           기타 미용업   857.142857\n",
              "2         0        2            c  ...    NaN           기타 미용업  2000.000000\n",
              "3         0        3            a  ...    NaN           기타 미용업  7857.142857\n",
              "4         0        4            c  ...    NaN           기타 미용업  2000.000000\n",
              "\n",
              "[5 rows x 9 columns]"
            ]
          },
          "metadata": {
            "tags": []
          },
          "execution_count": 6
        }
      ]
    },
    {
      "cell_type": "markdown",
      "metadata": {
        "id": "jGlvVtjVJCDd"
      },
      "source": [
        "####**데이터 변수명과 설명**\n",
        "\n",
        "\n",
        "1.   store_id : 상점의 고유 아이디(1,967개 상점)\n",
        "2.   card_id : 사용한 카드의 고유 아이디\n",
        "3.   card_company : 비식별화된 카드 회사\n",
        "4.   transacted_date : 거래 날짜\n",
        "5.   transacted_time : 거래 시간(시:분)\n",
        "6.   installment_term : 할부 개월 수(포인트 사용시 '60개월+실제 할부 개월')\n",
        "7.   region : 상점의 지역\n",
        "8.  type_of_business : 상점의 업종\n",
        "9.   amount : 매출액(단위 원X)\n",
        "\n",
        "\n",
        "\n",
        "\n"
      ]
    },
    {
      "cell_type": "code",
      "metadata": {
        "id": "xG9x8gboIIeu",
        "colab": {
          "base_uri": "https://localhost:8080/"
        },
        "outputId": "ae036966-ac60-4b22-bcd7-8ec9348ce777"
      },
      "source": [
        "train.info()"
      ],
      "execution_count": null,
      "outputs": [
        {
          "output_type": "stream",
          "text": [
            "<class 'pandas.core.frame.DataFrame'>\n",
            "RangeIndex: 6556613 entries, 0 to 6556612\n",
            "Data columns (total 9 columns):\n",
            " #   Column            Dtype  \n",
            "---  ------            -----  \n",
            " 0   store_id          int64  \n",
            " 1   card_id           int64  \n",
            " 2   card_company      object \n",
            " 3   transacted_date   object \n",
            " 4   transacted_time   object \n",
            " 5   installment_term  int64  \n",
            " 6   region            object \n",
            " 7   type_of_business  object \n",
            " 8   amount            float64\n",
            "dtypes: float64(1), int64(3), object(5)\n",
            "memory usage: 450.2+ MB\n"
          ],
          "name": "stdout"
        }
      ]
    },
    {
      "cell_type": "markdown",
      "metadata": {
        "id": "8qttix1kKbmX"
      },
      "source": [
        "####**데이터 노이즈**\n",
        "- 전처리 작업 필요\n"
      ]
    },
    {
      "cell_type": "markdown",
      "metadata": {
        "id": "Mk_S8RFxKv5J"
      },
      "source": [
        "#####결측값 확인"
      ]
    },
    {
      "cell_type": "code",
      "metadata": {
        "id": "r2RGM7yDKybs",
        "colab": {
          "base_uri": "https://localhost:8080/",
          "height": 222
        },
        "outputId": "ba0febe7-edda-4811-c2cb-4a58b6356782"
      },
      "source": [
        "train[:5] #region(NaN) 결측값 존재"
      ],
      "execution_count": null,
      "outputs": [
        {
          "output_type": "execute_result",
          "data": {
            "text/html": [
              "<div>\n",
              "<style scoped>\n",
              "    .dataframe tbody tr th:only-of-type {\n",
              "        vertical-align: middle;\n",
              "    }\n",
              "\n",
              "    .dataframe tbody tr th {\n",
              "        vertical-align: top;\n",
              "    }\n",
              "\n",
              "    .dataframe thead th {\n",
              "        text-align: right;\n",
              "    }\n",
              "</style>\n",
              "<table border=\"1\" class=\"dataframe\">\n",
              "  <thead>\n",
              "    <tr style=\"text-align: right;\">\n",
              "      <th></th>\n",
              "      <th>store_id</th>\n",
              "      <th>card_id</th>\n",
              "      <th>card_company</th>\n",
              "      <th>transacted_date</th>\n",
              "      <th>transacted_time</th>\n",
              "      <th>installment_term</th>\n",
              "      <th>region</th>\n",
              "      <th>type_of_business</th>\n",
              "      <th>amount</th>\n",
              "    </tr>\n",
              "  </thead>\n",
              "  <tbody>\n",
              "    <tr>\n",
              "      <th>0</th>\n",
              "      <td>0</td>\n",
              "      <td>0</td>\n",
              "      <td>b</td>\n",
              "      <td>2016-06-01</td>\n",
              "      <td>13:13</td>\n",
              "      <td>0</td>\n",
              "      <td>NaN</td>\n",
              "      <td>기타 미용업</td>\n",
              "      <td>1857.142857</td>\n",
              "    </tr>\n",
              "    <tr>\n",
              "      <th>1</th>\n",
              "      <td>0</td>\n",
              "      <td>1</td>\n",
              "      <td>h</td>\n",
              "      <td>2016-06-01</td>\n",
              "      <td>18:12</td>\n",
              "      <td>0</td>\n",
              "      <td>NaN</td>\n",
              "      <td>기타 미용업</td>\n",
              "      <td>857.142857</td>\n",
              "    </tr>\n",
              "    <tr>\n",
              "      <th>2</th>\n",
              "      <td>0</td>\n",
              "      <td>2</td>\n",
              "      <td>c</td>\n",
              "      <td>2016-06-01</td>\n",
              "      <td>18:52</td>\n",
              "      <td>0</td>\n",
              "      <td>NaN</td>\n",
              "      <td>기타 미용업</td>\n",
              "      <td>2000.000000</td>\n",
              "    </tr>\n",
              "    <tr>\n",
              "      <th>3</th>\n",
              "      <td>0</td>\n",
              "      <td>3</td>\n",
              "      <td>a</td>\n",
              "      <td>2016-06-01</td>\n",
              "      <td>20:22</td>\n",
              "      <td>0</td>\n",
              "      <td>NaN</td>\n",
              "      <td>기타 미용업</td>\n",
              "      <td>7857.142857</td>\n",
              "    </tr>\n",
              "    <tr>\n",
              "      <th>4</th>\n",
              "      <td>0</td>\n",
              "      <td>4</td>\n",
              "      <td>c</td>\n",
              "      <td>2016-06-02</td>\n",
              "      <td>11:06</td>\n",
              "      <td>0</td>\n",
              "      <td>NaN</td>\n",
              "      <td>기타 미용업</td>\n",
              "      <td>2000.000000</td>\n",
              "    </tr>\n",
              "  </tbody>\n",
              "</table>\n",
              "</div>"
            ],
            "text/plain": [
              "   store_id  card_id card_company  ... region type_of_business       amount\n",
              "0         0        0            b  ...    NaN           기타 미용업  1857.142857\n",
              "1         0        1            h  ...    NaN           기타 미용업   857.142857\n",
              "2         0        2            c  ...    NaN           기타 미용업  2000.000000\n",
              "3         0        3            a  ...    NaN           기타 미용업  7857.142857\n",
              "4         0        4            c  ...    NaN           기타 미용업  2000.000000\n",
              "\n",
              "[5 rows x 9 columns]"
            ]
          },
          "metadata": {
            "tags": []
          },
          "execution_count": 8
        }
      ]
    },
    {
      "cell_type": "markdown",
      "metadata": {
        "id": "dJEY6zsrLJ-R"
      },
      "source": [
        "#####데이터 이상치 확인"
      ]
    },
    {
      "cell_type": "code",
      "metadata": {
        "id": "3p1ZjMBjLJv-",
        "colab": {
          "base_uri": "https://localhost:8080/",
          "height": 522
        },
        "outputId": "1a69339f-18a8-4915-97f9-0aed0845b919"
      },
      "source": [
        "train[train['amount']<0] #매출액 음수 값 = 환불 (이상치)"
      ],
      "execution_count": null,
      "outputs": [
        {
          "output_type": "execute_result",
          "data": {
            "text/html": [
              "<div>\n",
              "<style scoped>\n",
              "    .dataframe tbody tr th:only-of-type {\n",
              "        vertical-align: middle;\n",
              "    }\n",
              "\n",
              "    .dataframe tbody tr th {\n",
              "        vertical-align: top;\n",
              "    }\n",
              "\n",
              "    .dataframe thead th {\n",
              "        text-align: right;\n",
              "    }\n",
              "</style>\n",
              "<table border=\"1\" class=\"dataframe\">\n",
              "  <thead>\n",
              "    <tr style=\"text-align: right;\">\n",
              "      <th></th>\n",
              "      <th>store_id</th>\n",
              "      <th>card_id</th>\n",
              "      <th>card_company</th>\n",
              "      <th>transacted_date</th>\n",
              "      <th>transacted_time</th>\n",
              "      <th>installment_term</th>\n",
              "      <th>region</th>\n",
              "      <th>type_of_business</th>\n",
              "      <th>amount</th>\n",
              "    </tr>\n",
              "  </thead>\n",
              "  <tbody>\n",
              "    <tr>\n",
              "      <th>41</th>\n",
              "      <td>0</td>\n",
              "      <td>40</td>\n",
              "      <td>a</td>\n",
              "      <td>2016-06-10</td>\n",
              "      <td>17:26</td>\n",
              "      <td>2</td>\n",
              "      <td>NaN</td>\n",
              "      <td>기타 미용업</td>\n",
              "      <td>-8571.428571</td>\n",
              "    </tr>\n",
              "    <tr>\n",
              "      <th>347</th>\n",
              "      <td>0</td>\n",
              "      <td>285</td>\n",
              "      <td>a</td>\n",
              "      <td>2016-08-04</td>\n",
              "      <td>17:52</td>\n",
              "      <td>0</td>\n",
              "      <td>NaN</td>\n",
              "      <td>기타 미용업</td>\n",
              "      <td>-1857.142857</td>\n",
              "    </tr>\n",
              "    <tr>\n",
              "      <th>731</th>\n",
              "      <td>0</td>\n",
              "      <td>473</td>\n",
              "      <td>g</td>\n",
              "      <td>2016-10-17</td>\n",
              "      <td>10:32</td>\n",
              "      <td>0</td>\n",
              "      <td>NaN</td>\n",
              "      <td>기타 미용업</td>\n",
              "      <td>-2000.000000</td>\n",
              "    </tr>\n",
              "    <tr>\n",
              "      <th>831</th>\n",
              "      <td>0</td>\n",
              "      <td>230</td>\n",
              "      <td>b</td>\n",
              "      <td>2016-11-03</td>\n",
              "      <td>15:36</td>\n",
              "      <td>0</td>\n",
              "      <td>NaN</td>\n",
              "      <td>기타 미용업</td>\n",
              "      <td>-85.714286</td>\n",
              "    </tr>\n",
              "    <tr>\n",
              "      <th>944</th>\n",
              "      <td>0</td>\n",
              "      <td>138</td>\n",
              "      <td>a</td>\n",
              "      <td>2016-11-28</td>\n",
              "      <td>13:21</td>\n",
              "      <td>0</td>\n",
              "      <td>NaN</td>\n",
              "      <td>기타 미용업</td>\n",
              "      <td>-57.142857</td>\n",
              "    </tr>\n",
              "    <tr>\n",
              "      <th>...</th>\n",
              "      <td>...</td>\n",
              "      <td>...</td>\n",
              "      <td>...</td>\n",
              "      <td>...</td>\n",
              "      <td>...</td>\n",
              "      <td>...</td>\n",
              "      <td>...</td>\n",
              "      <td>...</td>\n",
              "      <td>...</td>\n",
              "    </tr>\n",
              "    <tr>\n",
              "      <th>6556242</th>\n",
              "      <td>2136</td>\n",
              "      <td>4663626</td>\n",
              "      <td>b</td>\n",
              "      <td>2019-02-01</td>\n",
              "      <td>21:19</td>\n",
              "      <td>0</td>\n",
              "      <td>제주 제주시</td>\n",
              "      <td>기타 주점업</td>\n",
              "      <td>-13428.571429</td>\n",
              "    </tr>\n",
              "    <tr>\n",
              "      <th>6556448</th>\n",
              "      <td>2136</td>\n",
              "      <td>4663760</td>\n",
              "      <td>d</td>\n",
              "      <td>2019-02-15</td>\n",
              "      <td>00:46</td>\n",
              "      <td>0</td>\n",
              "      <td>제주 제주시</td>\n",
              "      <td>기타 주점업</td>\n",
              "      <td>-6928.571429</td>\n",
              "    </tr>\n",
              "    <tr>\n",
              "      <th>6556485</th>\n",
              "      <td>2136</td>\n",
              "      <td>4663779</td>\n",
              "      <td>b</td>\n",
              "      <td>2019-02-18</td>\n",
              "      <td>02:45</td>\n",
              "      <td>0</td>\n",
              "      <td>제주 제주시</td>\n",
              "      <td>기타 주점업</td>\n",
              "      <td>-5571.428571</td>\n",
              "    </tr>\n",
              "    <tr>\n",
              "      <th>6556489</th>\n",
              "      <td>2136</td>\n",
              "      <td>4663780</td>\n",
              "      <td>d</td>\n",
              "      <td>2019-02-18</td>\n",
              "      <td>21:43</td>\n",
              "      <td>0</td>\n",
              "      <td>제주 제주시</td>\n",
              "      <td>기타 주점업</td>\n",
              "      <td>-8571.428571</td>\n",
              "    </tr>\n",
              "    <tr>\n",
              "      <th>6556608</th>\n",
              "      <td>2136</td>\n",
              "      <td>4663855</td>\n",
              "      <td>d</td>\n",
              "      <td>2019-02-28</td>\n",
              "      <td>23:20</td>\n",
              "      <td>0</td>\n",
              "      <td>제주 제주시</td>\n",
              "      <td>기타 주점업</td>\n",
              "      <td>-4500.000000</td>\n",
              "    </tr>\n",
              "  </tbody>\n",
              "</table>\n",
              "<p>73100 rows × 9 columns</p>\n",
              "</div>"
            ],
            "text/plain": [
              "         store_id  card_id card_company  ...  region type_of_business        amount\n",
              "41              0       40            a  ...     NaN           기타 미용업  -8571.428571\n",
              "347             0      285            a  ...     NaN           기타 미용업  -1857.142857\n",
              "731             0      473            g  ...     NaN           기타 미용업  -2000.000000\n",
              "831             0      230            b  ...     NaN           기타 미용업    -85.714286\n",
              "944             0      138            a  ...     NaN           기타 미용업    -57.142857\n",
              "...           ...      ...          ...  ...     ...              ...           ...\n",
              "6556242      2136  4663626            b  ...  제주 제주시           기타 주점업 -13428.571429\n",
              "6556448      2136  4663760            d  ...  제주 제주시           기타 주점업  -6928.571429\n",
              "6556485      2136  4663779            b  ...  제주 제주시           기타 주점업  -5571.428571\n",
              "6556489      2136  4663780            d  ...  제주 제주시           기타 주점업  -8571.428571\n",
              "6556608      2136  4663855            d  ...  제주 제주시           기타 주점업  -4500.000000\n",
              "\n",
              "[73100 rows x 9 columns]"
            ]
          },
          "metadata": {
            "tags": []
          },
          "execution_count": 9
        }
      ]
    },
    {
      "cell_type": "markdown",
      "metadata": {
        "id": "vlML6_bYLkk2"
      },
      "source": [
        "####**분석 방향**"
      ]
    },
    {
      "cell_type": "markdown",
      "metadata": {
        "id": "C8dXO190L_qH"
      },
      "source": [
        "**상점별 개별적인 시계열 모델 사용**\n",
        "- 데이터가 시간의 흐름에 따라 발생한 데이터\n",
        "- 시간에 영향을 받는 관측치\n",
        "- 사전 도메인에서 고려할 상황 많음"
      ]
    },
    {
      "cell_type": "markdown",
      "metadata": {
        "id": "m6FK4i8KM_xN"
      },
      "source": [
        "###**4.1.5 분석환경 구축**"
      ]
    },
    {
      "cell_type": "markdown",
      "metadata": {
        "id": "HKa4SkeiN1jR"
      },
      "source": [
        "#####**시계열 분석 모델 : ARIMA게열 모델**"
      ]
    },
    {
      "cell_type": "code",
      "metadata": {
        "id": "rDDQVWWYLGJo"
      },
      "source": [
        "\n",
        "import pandas as pd\n",
        "import numpy as np\n",
        "import seaborn as sns  #데이터 시각화 패키지\n",
        "import matplotlib\n",
        "import matplotlib.pyplot as plt\n",
        "import statsmodels  #통계분석\n",
        "import rpy2 #파이썬에서 R객체 사용(R패키지와 함수 지원), 시계열 모델링할 때 R의 forecast, forecastHybrid 패키지 사용\n",
        "from tqdm import tqdm  #진행표시 바 제공, 반복문 실행시 수행시간 체크\n",
        "from statsmodels.graphics.tsaplots import plot_acf, plot_pacf #AR값을 정하기위한 acf,pcaf\n"
      ],
      "execution_count": null,
      "outputs": []
    },
    {
      "cell_type": "markdown",
      "metadata": {
        "id": "Ma0dbrdOS-VY"
      },
      "source": [
        "##**4.2 데이터 전처리**"
      ]
    },
    {
      "cell_type": "markdown",
      "metadata": {
        "id": "UDdbJAIrXY6u"
      },
      "source": [
        "###**4.2.1 노이즈 제거**"
      ]
    },
    {
      "cell_type": "code",
      "metadata": {
        "id": "L8x20EkIX0KM",
        "colab": {
          "base_uri": "https://localhost:8080/",
          "height": 354
        },
        "outputId": "57f50587-9478-41bc-9f3e-e9f421c27b5b"
      },
      "source": [
        "plt.figure(figsize=(13,4))\n",
        "plt.bar(train.columns, train.isnull().sum())\n",
        "plt.xticks(rotation=45) #각도 설정\n",
        "\n",
        "#지역, 업종에 절반 이상 결측지 존재!!"
      ],
      "execution_count": null,
      "outputs": [
        {
          "output_type": "execute_result",
          "data": {
            "text/plain": [
              "([0, 1, 2, 3, 4, 5, 6, 7, 8], <a list of 9 Text major ticklabel objects>)"
            ]
          },
          "metadata": {
            "tags": []
          },
          "execution_count": 11
        },
        {
          "output_type": "display_data",
          "data": {
            "image/png": "[encoded data removed]",
            "text/plain": [
              "<Figure size 936x288 with 1 Axes>"
            ]
          },
          "metadata": {
            "tags": [],
            "needs_background": "light"
          }
        }
      ]
    },
    {
      "cell_type": "code",
      "metadata": {
        "id": "n9gQw9hlbH5N",
        "colab": {
          "base_uri": "https://localhost:8080/",
          "height": 202
        },
        "outputId": "2c0d44e1-c6c3-4bd9-f174-ca956b611892"
      },
      "source": [
        "#범주형 속성, 대치방법 X -> 열 전체 제거\n",
        "\n",
        "train =train.drop(['region','type_of_business'],axis=1)\n",
        "train.head()"
      ],
      "execution_count": null,
      "outputs": [
        {
          "output_type": "execute_result",
          "data": {
            "text/html": [
              "<div>\n",
              "<style scoped>\n",
              "    .dataframe tbody tr th:only-of-type {\n",
              "        vertical-align: middle;\n",
              "    }\n",
              "\n",
              "    .dataframe tbody tr th {\n",
              "        vertical-align: top;\n",
              "    }\n",
              "\n",
              "    .dataframe thead th {\n",
              "        text-align: right;\n",
              "    }\n",
              "</style>\n",
              "<table border=\"1\" class=\"dataframe\">\n",
              "  <thead>\n",
              "    <tr style=\"text-align: right;\">\n",
              "      <th></th>\n",
              "      <th>store_id</th>\n",
              "      <th>card_id</th>\n",
              "      <th>card_company</th>\n",
              "      <th>transacted_date</th>\n",
              "      <th>transacted_time</th>\n",
              "      <th>installment_term</th>\n",
              "      <th>amount</th>\n",
              "    </tr>\n",
              "  </thead>\n",
              "  <tbody>\n",
              "    <tr>\n",
              "      <th>0</th>\n",
              "      <td>0</td>\n",
              "      <td>0</td>\n",
              "      <td>b</td>\n",
              "      <td>2016-06-01</td>\n",
              "      <td>13:13</td>\n",
              "      <td>0</td>\n",
              "      <td>1857.142857</td>\n",
              "    </tr>\n",
              "    <tr>\n",
              "      <th>1</th>\n",
              "      <td>0</td>\n",
              "      <td>1</td>\n",
              "      <td>h</td>\n",
              "      <td>2016-06-01</td>\n",
              "      <td>18:12</td>\n",
              "      <td>0</td>\n",
              "      <td>857.142857</td>\n",
              "    </tr>\n",
              "    <tr>\n",
              "      <th>2</th>\n",
              "      <td>0</td>\n",
              "      <td>2</td>\n",
              "      <td>c</td>\n",
              "      <td>2016-06-01</td>\n",
              "      <td>18:52</td>\n",
              "      <td>0</td>\n",
              "      <td>2000.000000</td>\n",
              "    </tr>\n",
              "    <tr>\n",
              "      <th>3</th>\n",
              "      <td>0</td>\n",
              "      <td>3</td>\n",
              "      <td>a</td>\n",
              "      <td>2016-06-01</td>\n",
              "      <td>20:22</td>\n",
              "      <td>0</td>\n",
              "      <td>7857.142857</td>\n",
              "    </tr>\n",
              "    <tr>\n",
              "      <th>4</th>\n",
              "      <td>0</td>\n",
              "      <td>4</td>\n",
              "      <td>c</td>\n",
              "      <td>2016-06-02</td>\n",
              "      <td>11:06</td>\n",
              "      <td>0</td>\n",
              "      <td>2000.000000</td>\n",
              "    </tr>\n",
              "  </tbody>\n",
              "</table>\n",
              "</div>"
            ],
            "text/plain": [
              "   store_id  card_id  ... installment_term       amount\n",
              "0         0        0  ...                0  1857.142857\n",
              "1         0        1  ...                0   857.142857\n",
              "2         0        2  ...                0  2000.000000\n",
              "3         0        3  ...                0  7857.142857\n",
              "4         0        4  ...                0  2000.000000\n",
              "\n",
              "[5 rows x 7 columns]"
            ]
          },
          "metadata": {
            "tags": []
          },
          "execution_count": 12
        }
      ]
    },
    {
      "cell_type": "code",
      "metadata": {
        "id": "dZqEuX1tc0CS",
        "colab": {
          "base_uri": "https://localhost:8080/",
          "height": 298
        },
        "outputId": "75d5a020-c560-4ac7-d6bb-2ef7938753d4"
      },
      "source": [
        "#매출액 변수 이상치 존재 확인\n",
        "\n",
        "plt.figure(figsize=(8,4))\n",
        "sns.boxplot(train['amount'])\n",
        "\n",
        "#매출액 변수에 음수 존재(환불)"
      ],
      "execution_count": null,
      "outputs": [
        {
          "output_type": "execute_result",
          "data": {
            "text/plain": [
              "<matplotlib.axes._subplots.AxesSubplot at 0x7f13c47dda10>"
            ]
          },
          "metadata": {
            "tags": []
          },
          "execution_count": 13
        },
        {
          "output_type": "display_data",
          "data": {
            "image/png": "[encoded data removed]",
            "text/plain": [
              "<Figure size 576x288 with 1 Axes>"
            ]
          },
          "metadata": {
            "tags": [],
            "needs_background": "light"
          }
        }
      ]
    },
    {
      "cell_type": "code",
      "metadata": {
        "id": "v4lniNzodMFM",
        "colab": {
          "base_uri": "https://localhost:8080/",
          "height": 202
        },
        "outputId": "ce954430-b63a-48f5-8478-33a8a11759aa"
      },
      "source": [
        "train[train['amount']<0].head()\n",
        "\n",
        "#환불 발생일, 환불 발생 시간 이전 데이터 중 카드 아이디가 같고 \n",
        "#음수 매출액의 절댓값과 양수 매출액이 같은 거래 중 최근 거래 찾아 해당 인덱스 제거"
      ],
      "execution_count": null,
      "outputs": [
        {
          "output_type": "execute_result",
          "data": {
            "text/html": [
              "<div>\n",
              "<style scoped>\n",
              "    .dataframe tbody tr th:only-of-type {\n",
              "        vertical-align: middle;\n",
              "    }\n",
              "\n",
              "    .dataframe tbody tr th {\n",
              "        vertical-align: top;\n",
              "    }\n",
              "\n",
              "    .dataframe thead th {\n",
              "        text-align: right;\n",
              "    }\n",
              "</style>\n",
              "<table border=\"1\" class=\"dataframe\">\n",
              "  <thead>\n",
              "    <tr style=\"text-align: right;\">\n",
              "      <th></th>\n",
              "      <th>store_id</th>\n",
              "      <th>card_id</th>\n",
              "      <th>card_company</th>\n",
              "      <th>transacted_date</th>\n",
              "      <th>transacted_time</th>\n",
              "      <th>installment_term</th>\n",
              "      <th>amount</th>\n",
              "    </tr>\n",
              "  </thead>\n",
              "  <tbody>\n",
              "    <tr>\n",
              "      <th>41</th>\n",
              "      <td>0</td>\n",
              "      <td>40</td>\n",
              "      <td>a</td>\n",
              "      <td>2016-06-10</td>\n",
              "      <td>17:26</td>\n",
              "      <td>2</td>\n",
              "      <td>-8571.428571</td>\n",
              "    </tr>\n",
              "    <tr>\n",
              "      <th>347</th>\n",
              "      <td>0</td>\n",
              "      <td>285</td>\n",
              "      <td>a</td>\n",
              "      <td>2016-08-04</td>\n",
              "      <td>17:52</td>\n",
              "      <td>0</td>\n",
              "      <td>-1857.142857</td>\n",
              "    </tr>\n",
              "    <tr>\n",
              "      <th>731</th>\n",
              "      <td>0</td>\n",
              "      <td>473</td>\n",
              "      <td>g</td>\n",
              "      <td>2016-10-17</td>\n",
              "      <td>10:32</td>\n",
              "      <td>0</td>\n",
              "      <td>-2000.000000</td>\n",
              "    </tr>\n",
              "    <tr>\n",
              "      <th>831</th>\n",
              "      <td>0</td>\n",
              "      <td>230</td>\n",
              "      <td>b</td>\n",
              "      <td>2016-11-03</td>\n",
              "      <td>15:36</td>\n",
              "      <td>0</td>\n",
              "      <td>-85.714286</td>\n",
              "    </tr>\n",
              "    <tr>\n",
              "      <th>944</th>\n",
              "      <td>0</td>\n",
              "      <td>138</td>\n",
              "      <td>a</td>\n",
              "      <td>2016-11-28</td>\n",
              "      <td>13:21</td>\n",
              "      <td>0</td>\n",
              "      <td>-57.142857</td>\n",
              "    </tr>\n",
              "  </tbody>\n",
              "</table>\n",
              "</div>"
            ],
            "text/plain": [
              "     store_id  card_id  ... installment_term       amount\n",
              "41          0       40  ...                2 -8571.428571\n",
              "347         0      285  ...                0 -1857.142857\n",
              "731         0      473  ...                0 -2000.000000\n",
              "831         0      230  ...                0   -85.714286\n",
              "944         0      138  ...                0   -57.142857\n",
              "\n",
              "[5 rows x 7 columns]"
            ]
          },
          "metadata": {
            "tags": []
          },
          "execution_count": 14
        }
      ]
    },
    {
      "cell_type": "code",
      "metadata": {
        "id": "LCD2RNAcdjXH"
      },
      "source": [
        "#거래일과 거래시간을 합친 datetime 변수 생성\n",
        "train['datetime']=pd.to_datetime(train.transacted_date+\" \"+train.transacted_time,format=\"%Y-%m-%d %H:%M:%S\")\n",
        "#환불 거래 제거 함수 정의\n",
        "def remove_refund(df):\n",
        "  refund=df[df['amount']<0]#매출액 음숫값 데이터 추출(매출액이 0미만인 행)\n",
        "  non_refund=df[df['amount']>0] #매출액 양숫값 데이터 추출(매출액이 0이상인 행)\n",
        "  removed_data=pd.DataFrame()\n",
        "  for i in tqdm(df.store_id.unique()):\n",
        "  #매출액이 양숫값인 데이터를 상점별로 나눈다.\n",
        "    divided_data=non_refund[non_refund['store_id']==i]\n",
        "  #매출액이 음숫값인 데이터를 상점별로 나눈다.\n",
        "    divided_data2=refund[refund['store_id']==i]\n",
        "\n",
        "    for neg in divided_data2.to_records()[:]:\n",
        "      refund_store=neg['store_id']\n",
        "      refund_id=neg['card_id']#환불 카드 아이디 추출\n",
        "      refund_datetime=neg['datetime'] #환불 시간 추출\n",
        "      refund_amount=abs(neg['amount'])#매출 음숫값의 절댓값을 구함\n",
        "\n",
        "    #환불 시간 이전의 데이터 중 카드 아이디와 환불액이 같은 후보 리스트 뽑음\n",
        "      refund_pay_list=divided_data[divided_data['datetime']<=refund_datetime]\n",
        "      refund_pay_list=refund_pay_list[refund_pay_list['card_id']==refund_id]\n",
        "      refund_pay_list=refund_pay_list[refund_pay_list['amount']==refund_amount]\n",
        "\n",
        "    #후보 리스트가 있으면 카드 아이디, 환불액이 같으면서 가장 최근시간을 제거\n",
        "      if len(refund_pay_list)!=0:\n",
        "      #가장 최근 시간을 구함\n",
        "        refund_datetime=max(refund_pay_list['datetime'])\n",
        "        noise_list=divided_data[divided_data['datetime']==refund_datetime]\n",
        "      #환불 카드 아이디\n",
        "        noise_list=noise_list[noise_list['card_id']==refund_id]\n",
        "      #환불액\n",
        "        noise_list=noise_list[noise_list['amount']==refund_amount]\n",
        "      #인덱스를 통해 제거\n",
        "        divided_data=divided_data.drop(index=noise_list.index)\n",
        "  #제거한 데이터를 데이터프레임에 추가 \n",
        "    removed_data=pd.concat([removed_data,divided_data],axis=0)\n",
        "  return removed_data"
      ],
      "execution_count": null,
      "outputs": []
    },
    {
      "cell_type": "code",
      "metadata": {
        "id": "a4qoXb91fAKp",
        "colab": {
          "base_uri": "https://localhost:8080/",
          "height": 317
        },
        "outputId": "47ce6f06-3a25-44f8-b1d1-0ab8482e68ab"
      },
      "source": [
        "#환불거래 제거 함수를 통해 환불 거래 제거\n",
        "positive_data=remove_refund(train)\n",
        "plt.figure(figsize=(8,4))\n",
        "sns.boxplot(positive_data['amount'])\n",
        "\n",
        "#시간이 좀 걸립니다"
      ],
      "execution_count": null,
      "outputs": [
        {
          "output_type": "stream",
          "text": [
            "100%|██████████| 1967/1967 [13:51<00:00,  2.36it/s]\n"
          ],
          "name": "stderr"
        },
        {
          "output_type": "execute_result",
          "data": {
            "text/plain": [
              "<matplotlib.axes._subplots.AxesSubplot at 0x7f13c42ab950>"
            ]
          },
          "metadata": {
            "tags": []
          },
          "execution_count": 16
        },
        {
          "output_type": "display_data",
          "data": {
            "image/png": "[encoded data removed]",
            "text/plain": [
              "<Figure size 576x288 with 1 Axes>"
            ]
          },
          "metadata": {
            "tags": [],
            "needs_background": "light"
          }
        }
      ]
    },
    {
      "cell_type": "markdown",
      "metadata": {
        "id": "IUfxj7zG2JA3"
      },
      "source": [
        "###**4.2.2 다운 샘플링**\n",
        "시계열 데이터에서 시간 간격을 넓게 재조정해 데이터 샘플 수 줄이는 것"
      ]
    },
    {
      "cell_type": "code",
      "metadata": {
        "id": "tbA7YEBbvXn0",
        "colab": {
          "base_uri": "https://localhost:8080/",
          "height": 202
        },
        "outputId": "1228847e-e37d-428c-f1d1-00a8449f04b9"
      },
      "source": [
        "positive_data.head()"
      ],
      "execution_count": null,
      "outputs": [
        {
          "output_type": "execute_result",
          "data": {
            "text/html": [
              "<div>\n",
              "<style scoped>\n",
              "    .dataframe tbody tr th:only-of-type {\n",
              "        vertical-align: middle;\n",
              "    }\n",
              "\n",
              "    .dataframe tbody tr th {\n",
              "        vertical-align: top;\n",
              "    }\n",
              "\n",
              "    .dataframe thead th {\n",
              "        text-align: right;\n",
              "    }\n",
              "</style>\n",
              "<table border=\"1\" class=\"dataframe\">\n",
              "  <thead>\n",
              "    <tr style=\"text-align: right;\">\n",
              "      <th></th>\n",
              "      <th>store_id</th>\n",
              "      <th>card_id</th>\n",
              "      <th>card_company</th>\n",
              "      <th>transacted_date</th>\n",
              "      <th>transacted_time</th>\n",
              "      <th>installment_term</th>\n",
              "      <th>amount</th>\n",
              "      <th>datetime</th>\n",
              "    </tr>\n",
              "  </thead>\n",
              "  <tbody>\n",
              "    <tr>\n",
              "      <th>0</th>\n",
              "      <td>0</td>\n",
              "      <td>0</td>\n",
              "      <td>b</td>\n",
              "      <td>2016-06-01</td>\n",
              "      <td>13:13</td>\n",
              "      <td>0</td>\n",
              "      <td>1857.142857</td>\n",
              "      <td>2016-06-01 13:13:00</td>\n",
              "    </tr>\n",
              "    <tr>\n",
              "      <th>1</th>\n",
              "      <td>0</td>\n",
              "      <td>1</td>\n",
              "      <td>h</td>\n",
              "      <td>2016-06-01</td>\n",
              "      <td>18:12</td>\n",
              "      <td>0</td>\n",
              "      <td>857.142857</td>\n",
              "      <td>2016-06-01 18:12:00</td>\n",
              "    </tr>\n",
              "    <tr>\n",
              "      <th>2</th>\n",
              "      <td>0</td>\n",
              "      <td>2</td>\n",
              "      <td>c</td>\n",
              "      <td>2016-06-01</td>\n",
              "      <td>18:52</td>\n",
              "      <td>0</td>\n",
              "      <td>2000.000000</td>\n",
              "      <td>2016-06-01 18:52:00</td>\n",
              "    </tr>\n",
              "    <tr>\n",
              "      <th>3</th>\n",
              "      <td>0</td>\n",
              "      <td>3</td>\n",
              "      <td>a</td>\n",
              "      <td>2016-06-01</td>\n",
              "      <td>20:22</td>\n",
              "      <td>0</td>\n",
              "      <td>7857.142857</td>\n",
              "      <td>2016-06-01 20:22:00</td>\n",
              "    </tr>\n",
              "    <tr>\n",
              "      <th>4</th>\n",
              "      <td>0</td>\n",
              "      <td>4</td>\n",
              "      <td>c</td>\n",
              "      <td>2016-06-02</td>\n",
              "      <td>11:06</td>\n",
              "      <td>0</td>\n",
              "      <td>2000.000000</td>\n",
              "      <td>2016-06-02 11:06:00</td>\n",
              "    </tr>\n",
              "  </tbody>\n",
              "</table>\n",
              "</div>"
            ],
            "text/plain": [
              "   store_id  card_id  ...       amount            datetime\n",
              "0         0        0  ...  1857.142857 2016-06-01 13:13:00\n",
              "1         0        1  ...   857.142857 2016-06-01 18:12:00\n",
              "2         0        2  ...  2000.000000 2016-06-01 18:52:00\n",
              "3         0        3  ...  7857.142857 2016-06-01 20:22:00\n",
              "4         0        4  ...  2000.000000 2016-06-02 11:06:00\n",
              "\n",
              "[5 rows x 8 columns]"
            ]
          },
          "metadata": {
            "tags": []
          },
          "execution_count": 17
        }
      ]
    },
    {
      "cell_type": "code",
      "metadata": {
        "id": "YjyN2xvr280i"
      },
      "source": [
        "##월별로 다운 샘플링해주는 함수\n",
        "def month_resampling(df):\n",
        "    new_data=pd.DataFrame() \n",
        "    #년도와 월을 합친 변수 생성\n",
        "    df['year_month']=df['transacted_date'].str.slice(stop=7)\n",
        "    #데이터의 전체 기간 추출\n",
        "    year_month=df['year_month'].drop_duplicates()\n",
        "    #상점 아이디별로 월 단위 매출액 총합 구함\n",
        "    downsampling_data=df.groupby(['store_id', 'year_month']).amount.sum()\n",
        "    downsampling_data=pd.DataFrame(downsampling_data)\n",
        "    downsampling_data=downsampling_data.reset_index(drop=False,inplace=False)\n",
        "    \n",
        "    for i in tqdm(df.store_id.unique()):\n",
        "        #상점별로 데이터 처리\n",
        "        store=downsampling_data[downsampling_data['store_id']==i]\n",
        "        #각 상점의 처으므 매출이 발생한 월 구함\n",
        "        start_time=min(store['year_month'])\n",
        "        #데이터를 시간 순으로 정렬\n",
        "        store=store.merge(year_month,how='outer')\n",
        "        #매출이 발생하지 않는 월은 2로 채움\n",
        "        store=store.sort_values(by=['year_month'], axis=0, ascending=True) ##데이터를 시간순으로 정렬\n",
        "        \n",
        "        store['amount']=store['amount'].fillna(2)   #매출이 발생하지 않는 월은 2로 채움\n",
        "        store['store_id']=store['store_id'].fillna(i) #store_id 결측치 채움\n",
        "        store=store[store['year_month']>=start_time]  #매출 시작일 이후만 뽑음\n",
        "        \n",
        "        new_data=pd.concat([new_data,store],axis=0)\n",
        "        \n",
        "    return new_data"
      ],
      "execution_count": null,
      "outputs": []
    },
    {
      "cell_type": "code",
      "metadata": {
        "id": "VmHOBkGT32U-",
        "colab": {
          "base_uri": "https://localhost:8080/",
          "height": 434
        },
        "outputId": "cd6dce68-a43d-42e5-d6ea-ca480d66dcd7"
      },
      "source": [
        "#환불 제거 데이터를 월 단위로 다운 샘플링\n",
        "resampling_data=month_resampling(positive_data)\n",
        "resampling_data['store_id']=resampling_data['store_id'].astype(int)\n",
        "resampling_data\n",
        "#시간 간격이 너무 크거나 작으면 정확도가 떨어짐\n",
        "# 지속적인 탐색을 통해 적절한 다운 샘플링 시간 간격을 찾는 것이 주요 과제!"
      ],
      "execution_count": null,
      "outputs": [
        {
          "output_type": "stream",
          "text": [
            "100%|██████████| 1967/1967 [00:19<00:00, 101.38it/s]\n"
          ],
          "name": "stderr"
        },
        {
          "output_type": "execute_result",
          "data": {
            "text/html": [
              "<div>\n",
              "<style scoped>\n",
              "    .dataframe tbody tr th:only-of-type {\n",
              "        vertical-align: middle;\n",
              "    }\n",
              "\n",
              "    .dataframe tbody tr th {\n",
              "        vertical-align: top;\n",
              "    }\n",
              "\n",
              "    .dataframe thead th {\n",
              "        text-align: right;\n",
              "    }\n",
              "</style>\n",
              "<table border=\"1\" class=\"dataframe\">\n",
              "  <thead>\n",
              "    <tr style=\"text-align: right;\">\n",
              "      <th></th>\n",
              "      <th>store_id</th>\n",
              "      <th>year_month</th>\n",
              "      <th>amount</th>\n",
              "    </tr>\n",
              "  </thead>\n",
              "  <tbody>\n",
              "    <tr>\n",
              "      <th>0</th>\n",
              "      <td>0</td>\n",
              "      <td>2016-06</td>\n",
              "      <td>7.470000e+05</td>\n",
              "    </tr>\n",
              "    <tr>\n",
              "      <th>1</th>\n",
              "      <td>0</td>\n",
              "      <td>2016-07</td>\n",
              "      <td>1.005000e+06</td>\n",
              "    </tr>\n",
              "    <tr>\n",
              "      <th>2</th>\n",
              "      <td>0</td>\n",
              "      <td>2016-08</td>\n",
              "      <td>8.697143e+05</td>\n",
              "    </tr>\n",
              "    <tr>\n",
              "      <th>3</th>\n",
              "      <td>0</td>\n",
              "      <td>2016-09</td>\n",
              "      <td>8.978571e+05</td>\n",
              "    </tr>\n",
              "    <tr>\n",
              "      <th>4</th>\n",
              "      <td>0</td>\n",
              "      <td>2016-10</td>\n",
              "      <td>8.354286e+05</td>\n",
              "    </tr>\n",
              "    <tr>\n",
              "      <th>...</th>\n",
              "      <td>...</td>\n",
              "      <td>...</td>\n",
              "      <td>...</td>\n",
              "    </tr>\n",
              "    <tr>\n",
              "      <th>17</th>\n",
              "      <td>2136</td>\n",
              "      <td>2018-10</td>\n",
              "      <td>2.012214e+06</td>\n",
              "    </tr>\n",
              "    <tr>\n",
              "      <th>18</th>\n",
              "      <td>2136</td>\n",
              "      <td>2018-11</td>\n",
              "      <td>2.127643e+06</td>\n",
              "    </tr>\n",
              "    <tr>\n",
              "      <th>19</th>\n",
              "      <td>2136</td>\n",
              "      <td>2018-12</td>\n",
              "      <td>2.427429e+06</td>\n",
              "    </tr>\n",
              "    <tr>\n",
              "      <th>20</th>\n",
              "      <td>2136</td>\n",
              "      <td>2019-01</td>\n",
              "      <td>1.867786e+06</td>\n",
              "    </tr>\n",
              "    <tr>\n",
              "      <th>21</th>\n",
              "      <td>2136</td>\n",
              "      <td>2019-02</td>\n",
              "      <td>2.227429e+06</td>\n",
              "    </tr>\n",
              "  </tbody>\n",
              "</table>\n",
              "<p>60982 rows × 3 columns</p>\n",
              "</div>"
            ],
            "text/plain": [
              "    store_id year_month        amount\n",
              "0          0    2016-06  7.470000e+05\n",
              "1          0    2016-07  1.005000e+06\n",
              "2          0    2016-08  8.697143e+05\n",
              "3          0    2016-09  8.978571e+05\n",
              "4          0    2016-10  8.354286e+05\n",
              "..       ...        ...           ...\n",
              "17      2136    2018-10  2.012214e+06\n",
              "18      2136    2018-11  2.127643e+06\n",
              "19      2136    2018-12  2.427429e+06\n",
              "20      2136    2019-01  1.867786e+06\n",
              "21      2136    2019-02  2.227429e+06\n",
              "\n",
              "[60982 rows x 3 columns]"
            ]
          },
          "metadata": {
            "tags": []
          },
          "execution_count": 19
        }
      ]
    },
    {
      "cell_type": "markdown",
      "metadata": {
        "id": "i4Rnsn6o5Ya3"
      },
      "source": [
        "###**4.2.3 날짜 지정 범위 생성과 시리즈 객체 변환**"
      ]
    },
    {
      "cell_type": "code",
      "metadata": {
        "id": "pDCnHWTZ6LDk",
        "colab": {
          "base_uri": "https://localhost:8080/"
        },
        "outputId": "40943d44-07a0-4541-fe8e-53adee742b7e"
      },
      "source": [
        "#다운 샘플링한 데이터 타입 데이터프레임 확인\n",
        "print(type(resampling_data))"
      ],
      "execution_count": null,
      "outputs": [
        {
          "output_type": "stream",
          "text": [
            "<class 'pandas.core.frame.DataFrame'>\n"
          ],
          "name": "stdout"
        }
      ]
    },
    {
      "cell_type": "code",
      "metadata": {
        "id": "7hMKHOd86QaP"
      },
      "source": [
        "#상점 아이디별 인덱스에 날짜 지정 범위 생성, 시리즈 객체로 변환\n",
        "def time_series(df,i):\n",
        "  #상점 아이디별로 데이터 뽑기\n",
        "  store=df[df['store_id']==i]\n",
        "  #날짜 지정 범위는 영업시작 월부터 2019년 3월 전까지 영업 마감일 기준\n",
        "  #date_range함수로 시리즈 객체의 인덱스에 지정할 날짜 범위 생성\n",
        "  index=pd.date_range(min(store['year_month']),'2019-03',freq='BM') #주말이 아닌 평일 중 각 달의 마지막 날 기준으로 날짜 생성\n",
        "  #시리즈 객체로 변환\n",
        "  ts=pd.Series(store['amount'].values,index=index)\n",
        "  return ts"
      ],
      "execution_count": null,
      "outputs": []
    },
    {
      "cell_type": "code",
      "metadata": {
        "id": "do2vnI2k6_LQ",
        "colab": {
          "base_uri": "https://localhost:8080/"
        },
        "outputId": "d177532f-7424-4bae-cb63-f32d59551602"
      },
      "source": [
        "#상점 아이디가 0번인 데이터를 시리즈 객체로 변환 후 출력\n",
        "store_0=time_series(resampling_data,0)\n",
        "store_0"
      ],
      "execution_count": null,
      "outputs": [
        {
          "output_type": "execute_result",
          "data": {
            "text/plain": [
              "2016-06-30    7.470000e+05\n",
              "2016-07-29    1.005000e+06\n",
              "2016-08-31    8.697143e+05\n",
              "2016-09-30    8.978571e+05\n",
              "2016-10-31    8.354286e+05\n",
              "2016-11-30    6.970000e+05\n",
              "2016-12-30    7.618571e+05\n",
              "2017-01-31    5.856429e+05\n",
              "2017-02-28    7.940000e+05\n",
              "2017-03-31    7.202571e+05\n",
              "2017-04-28    6.852857e+05\n",
              "2017-05-31    7.444286e+05\n",
              "2017-06-30    6.820000e+05\n",
              "2017-07-31    7.282857e+05\n",
              "2017-08-31    7.490000e+05\n",
              "2017-09-29    8.408571e+05\n",
              "2017-10-31    6.005714e+05\n",
              "2017-11-30    6.308571e+05\n",
              "2017-12-29    8.127143e+05\n",
              "2018-01-31    6.431429e+05\n",
              "2018-02-28    6.852857e+05\n",
              "2018-03-30    8.484286e+05\n",
              "2018-04-30    6.361429e+05\n",
              "2018-05-31    6.864286e+05\n",
              "2018-06-29    7.072857e+05\n",
              "2018-07-31    7.587143e+05\n",
              "2018-08-31    6.798571e+05\n",
              "2018-09-28    6.518571e+05\n",
              "2018-10-31    7.390000e+05\n",
              "2018-11-30    6.760000e+05\n",
              "2018-12-31    8.745714e+05\n",
              "2019-01-31    6.828571e+05\n",
              "2019-02-28    5.152857e+05\n",
              "Freq: BM, dtype: float64"
            ]
          },
          "metadata": {
            "tags": []
          },
          "execution_count": 22
        }
      ]
    },
    {
      "cell_type": "code",
      "metadata": {
        "id": "uHto7tHj7Gyj",
        "colab": {
          "base_uri": "https://localhost:8080/"
        },
        "outputId": "17b1e629-ed0c-4544-94c9-3380486d9412"
      },
      "source": [
        "#상점 아이디가 1인 데이터를 시리즈 객체로 변환 후 데이터 타입 확인\n",
        "store_1=time_series(resampling_data,1)\n",
        "print(type(store_1))"
      ],
      "execution_count": null,
      "outputs": [
        {
          "output_type": "stream",
          "text": [
            "<class 'pandas.core.series.Series'>\n"
          ],
          "name": "stdout"
        }
      ]
    },
    {
      "cell_type": "code",
      "metadata": {
        "id": "Ah4Imqjr8AxY",
        "colab": {
          "base_uri": "https://localhost:8080/",
          "height": 296
        },
        "outputId": "475e1034-1238-4212-f5e9-026968efdfea"
      },
      "source": [
        "#상점 아이디가 2번인 데이터를 시리즈 객체로 변환\n",
        "store_2=time_series(resampling_data,2)\n",
        "store_2.plot()\n",
        "\n",
        "#시계열 모델 구축에는 매출액의 변동 계수(매출액 표준편차를 평균으로 나눈 지표)를 고려해 작은 변동을 안정화하는 로그 정규화 진행 예정"
      ],
      "execution_count": null,
      "outputs": [
        {
          "output_type": "execute_result",
          "data": {
            "text/plain": [
              "<matplotlib.axes._subplots.AxesSubplot at 0x7f13aaabaa10>"
            ]
          },
          "metadata": {
            "tags": []
          },
          "execution_count": 24
        },
        {
          "output_type": "display_data",
          "data": {
            "image/png": "[encoded data removed]",
            "text/plain": [
              "<Figure size 432x288 with 1 Axes>"
            ]
          },
          "metadata": {
            "tags": [],
            "needs_background": "light"
          }
        }
      ]
    },
    {
      "cell_type": "markdown",
      "metadata": {
        "id": "1USb5iBi9QY8"
      },
      "source": [
        "###**데이터 전처리 완료**\n",
        "\n",
        "####1. 노이즈 제거, 다운샘플링을 통해 시계열 모델의 불확실성을 줄이는 작업\n",
        "####2. 상점별로 날짜 지정 범위 생성, 시리즈 객체 변환"
      ]
    },
    {
      "cell_type": "markdown",
      "metadata": {
        "id": "NG0Kouec92Jv"
      },
      "source": [
        "##**4.3 탐색적 데이터 분석**"
      ]
    },
    {
      "cell_type": "markdown",
      "metadata": {
        "id": "UjMdegG891hz"
      },
      "source": [
        "####**4.3.1 상점별 매출 특성**\n",
        "- 계절성이 있는 상점\n",
        "- 추세가 있는 상점\n",
        "- 휴업 중인 상점"
      ]
    },
    {
      "cell_type": "code",
      "metadata": {
        "id": "1hovk4-C-rAt",
        "colab": {
          "base_uri": "https://localhost:8080/"
        },
        "outputId": "157ac386-d897-411d-ff22-071ac4e35ef2"
      },
      "source": [
        "#계절성이 있는 상점\n",
        "store_257=time_series(resampling_data,257)\n",
        "store_257\n",
        "# 매출이 발생하지 않았던 월은 전부 2로 대치-> 매출액이 2인 월은 매출이 발생하지 않은 월"
      ],
      "execution_count": null,
      "outputs": [
        {
          "output_type": "execute_result",
          "data": {
            "text/plain": [
              "2016-06-30    4.891857e+05\n",
              "2016-07-29    1.595280e+06\n",
              "2016-08-31    1.518714e+06\n",
              "2016-09-30    3.369143e+05\n",
              "2016-10-31    4.245714e+05\n",
              "2016-11-30    2.000000e+00\n",
              "2016-12-30    2.000000e+00\n",
              "2017-01-31    2.000000e+00\n",
              "2017-02-28    2.000000e+00\n",
              "2017-03-31    2.000000e+00\n",
              "2017-04-28    3.928571e+04\n",
              "2017-05-31    1.557286e+05\n",
              "2017-06-30    5.481143e+05\n",
              "2017-07-31    7.359286e+05\n",
              "2017-08-31    7.909700e+05\n",
              "2017-09-29    6.191429e+04\n",
              "2017-10-31    1.027143e+06\n",
              "2017-11-30    2.000000e+00\n",
              "2017-12-29    2.000000e+00\n",
              "2018-01-31    2.000000e+00\n",
              "2018-02-28    2.000000e+00\n",
              "2018-03-30    2.000000e+00\n",
              "2018-04-30    2.000000e+00\n",
              "2018-05-31    2.493857e+05\n",
              "2018-06-29    4.822286e+05\n",
              "2018-07-31    8.999714e+05\n",
              "2018-08-31    1.645877e+06\n",
              "2018-09-28    2.767857e+05\n",
              "2018-10-31    2.000000e+00\n",
              "2018-11-30    2.000000e+00\n",
              "2018-12-31    2.000000e+00\n",
              "2019-01-31    2.000000e+00\n",
              "2019-02-28    2.000000e+00\n",
              "Freq: BM, dtype: float64"
            ]
          },
          "metadata": {
            "tags": []
          },
          "execution_count": 25
        }
      ]
    },
    {
      "cell_type": "code",
      "metadata": {
        "id": "tEkIROK6_F0i",
        "colab": {
          "base_uri": "https://localhost:8080/",
          "height": 288
        },
        "outputId": "05033f6a-e50b-47cd-902b-c4e2d8977b3a"
      },
      "source": [
        "store_plot_257=store_257.plot()\n",
        "fig=store_plot_257.plot()\n",
        "#겨울 시즌(11-3월)에는 매출액이 낮고 여름 시즌(7-8월)에 많은 매출 기록"
      ],
      "execution_count": null,
      "outputs": [
        {
          "output_type": "display_data",
          "data": {
            "image/png": "[encoded data removed]",
            "text/plain": [
              "<Figure size 432x288 with 1 Axes>"
            ]
          },
          "metadata": {
            "tags": [],
            "needs_background": "light"
          }
        }
      ]
    },
    {
      "cell_type": "code",
      "metadata": {
        "id": "d1-rfPjk_vaR",
        "colab": {
          "base_uri": "https://localhost:8080/"
        },
        "outputId": "22d4dcbb-e97b-4b4f-86cd-495f88894892"
      },
      "source": [
        "store_2096=time_series(resampling_data,2096)\n",
        "store_2096"
      ],
      "execution_count": null,
      "outputs": [
        {
          "output_type": "execute_result",
          "data": {
            "text/plain": [
              "2016-07-29    5.075429e+04\n",
              "2016-08-31    9.219543e+05\n",
              "2016-09-30    4.720786e+05\n",
              "2016-10-31    5.145714e+05\n",
              "2016-11-30    1.494286e+05\n",
              "2016-12-30    1.071686e+06\n",
              "2017-01-31    1.602857e+06\n",
              "2017-02-28    1.332143e+06\n",
              "2017-03-31    2.432143e+05\n",
              "2017-04-28    3.903143e+06\n",
              "2017-05-31    1.729500e+06\n",
              "2017-06-30    4.280214e+06\n",
              "2017-07-31    1.775714e+06\n",
              "2017-08-31    7.428571e+05\n",
              "2017-09-29    1.415714e+06\n",
              "2017-10-31    1.180714e+06\n",
              "2017-11-30    4.640000e+05\n",
              "2017-12-29    1.389729e+06\n",
              "2018-01-31    2.000000e+00\n",
              "2018-02-28    8.285714e+05\n",
              "2018-03-30    7.857143e+05\n",
              "2018-04-30    6.670429e+06\n",
              "2018-05-31    1.837286e+05\n",
              "2018-06-29    3.285714e+06\n",
              "2018-07-31    9.502857e+05\n",
              "2018-08-31    3.675200e+06\n",
              "2018-09-28    1.793886e+06\n",
              "2018-10-31    4.717743e+06\n",
              "2018-11-30    7.593600e+06\n",
              "2018-12-31    1.428571e+06\n",
              "2019-01-31    4.285714e+05\n",
              "2019-02-28    1.428571e+06\n",
              "Freq: BM, dtype: float64"
            ]
          },
          "metadata": {
            "tags": []
          },
          "execution_count": 27
        }
      ]
    },
    {
      "cell_type": "code",
      "metadata": {
        "id": "k8e26gM__iQ1",
        "colab": {
          "base_uri": "https://localhost:8080/",
          "height": 342
        },
        "outputId": "2cec7fd3-501a-4c1d-fe1f-26c4730da7e6"
      },
      "source": [
        "store_plot_2096=store_2096.plot()\n",
        "fig=store_plot_2096.get_figure()\n",
        "fig.set_size_inches(13.5,5)\n",
        "#겨울 시즌(1-3월)에는 매출액이 낮고 4월에 많은 매출액 상승 패턴"
      ],
      "execution_count": null,
      "outputs": [
        {
          "output_type": "display_data",
          "data": {
            "image/png": "[encoded data removed]",
            "text/plain": [
              "<Figure size 972x360 with 1 Axes>"
            ]
          },
          "metadata": {
            "tags": [],
            "needs_background": "light"
          }
        }
      ]
    },
    {
      "cell_type": "code",
      "metadata": {
        "id": "fdxV1ArYAY4u",
        "colab": {
          "base_uri": "https://localhost:8080/",
          "height": 342
        },
        "outputId": "59d622d9-2f88-4e7b-bd25-b959dde38342"
      },
      "source": [
        "#추세가 있는 상점\n",
        "store_335=time_series(resampling_data,335)\n",
        "store_plot_335=store_335.plot()\n",
        "fig=store_plot_335.get_figure()\n",
        "fig.set_size_inches(13.5,5)\n",
        "#2016년 6월-2017년 10월 감소 추세, 2017년 11월-2019년 2월 증가 추세"
      ],
      "execution_count": null,
      "outputs": [
        {
          "output_type": "display_data",
          "data": {
            "image/png": "[encoded data removed]",
            "text/plain": [
              "<Figure size 972x360 with 1 Axes>"
            ]
          },
          "metadata": {
            "tags": [],
            "needs_background": "light"
          }
        }
      ]
    },
    {
      "cell_type": "code",
      "metadata": {
        "id": "-pzmxKCiBHNK",
        "colab": {
          "base_uri": "https://localhost:8080/",
          "height": 331
        },
        "outputId": "6e185239-d152-4519-d274-29ce5a33c1f8"
      },
      "source": [
        "store_510=time_series(resampling_data,510)\n",
        "store_plot_510=store_510.plot()\n",
        "fig=store_plot_510.get_figure()\n",
        "fig.set_size_inches(13.5,5)\n",
        "#2016년 12월-2017년 8월 증가 추세, 2017년 9월 이후 감소 추세"
      ],
      "execution_count": null,
      "outputs": [
        {
          "output_type": "display_data",
          "data": {
            "image/png": "[encoded data removed]",
            "text/plain": [
              "<Figure size 972x360 with 1 Axes>"
            ]
          },
          "metadata": {
            "tags": [],
            "needs_background": "light"
          }
        }
      ]
    },
    {
      "cell_type": "code",
      "metadata": {
        "id": "SCci23MPCNXV",
        "colab": {
          "base_uri": "https://localhost:8080/"
        },
        "outputId": "ca948fcf-8330-44fb-9695-e91fd03d0ccc"
      },
      "source": [
        "#휴업 중인 상점\n",
        "store_111=time_series(resampling_data,111)\n",
        "store_111"
      ],
      "execution_count": null,
      "outputs": [
        {
          "output_type": "execute_result",
          "data": {
            "text/plain": [
              "2016-06-30    812428.571429\n",
              "2016-07-29    391142.857143\n",
              "2016-08-31     13071.428571\n",
              "2016-09-30    495714.285714\n",
              "2016-10-31    182714.285714\n",
              "2016-11-30    178571.428571\n",
              "2016-12-30     43005.714286\n",
              "2017-01-31         2.000000\n",
              "2017-02-28      5428.571429\n",
              "2017-03-31     24857.142857\n",
              "2017-04-28    108000.000000\n",
              "2017-05-31    459142.857143\n",
              "2017-06-30    137571.428571\n",
              "2017-07-31    216285.714286\n",
              "2017-08-31     77000.000000\n",
              "2017-09-29     78005.714286\n",
              "2017-10-31         2.000000\n",
              "2017-11-30         2.000000\n",
              "2017-12-29         2.000000\n",
              "2018-01-31      1428.571429\n",
              "2018-02-28    309785.714286\n",
              "2018-03-30    259071.428571\n",
              "2018-04-30    225858.571429\n",
              "2018-05-31    105571.428571\n",
              "2018-06-29         2.000000\n",
              "2018-07-31    123285.714286\n",
              "2018-08-31         2.000000\n",
              "2018-09-28     83000.000000\n",
              "2018-10-31         2.000000\n",
              "2018-11-30         2.000000\n",
              "2018-12-31         2.000000\n",
              "2019-01-31         2.000000\n",
              "2019-02-28         2.000000\n",
              "Freq: BM, dtype: float64"
            ]
          },
          "metadata": {
            "tags": []
          },
          "execution_count": 31
        }
      ]
    },
    {
      "cell_type": "code",
      "metadata": {
        "id": "xsmGDPsQBx2H",
        "colab": {
          "base_uri": "https://localhost:8080/",
          "height": 331
        },
        "outputId": "f3ad7b74-5c2d-4081-e250-680af0cf51d8"
      },
      "source": [
        "store_plot_111=store_111.plot()\n",
        "fig=store_plot_111.get_figure()\n",
        "fig.set_size_inches(13.5,5)\n",
        "#2017년 10월-2017년 12얼 휴업, 2019년 10월 이후 휴업 상태 \n",
        "#2019년 3-5월에는 매출이 발생하지 않을 것으로 예측"
      ],
      "execution_count": null,
      "outputs": [
        {
          "output_type": "display_data",
          "data": {
            "image/png": "[encoded data removed]",
            "text/plain": [
              "<Figure size 972x360 with 1 Axes>"
            ]
          },
          "metadata": {
            "tags": [],
            "needs_background": "light"
          }
        }
      ]
    },
    {
      "cell_type": "code",
      "metadata": {
        "id": "yDE3b2icC_iL",
        "colab": {
          "base_uri": "https://localhost:8080/"
        },
        "outputId": "57576f4d-8e81-42db-f52b-e45006c44ed5"
      },
      "source": [
        "store_279=time_series(resampling_data,279)\n",
        "store_279"
      ],
      "execution_count": null,
      "outputs": [
        {
          "output_type": "execute_result",
          "data": {
            "text/plain": [
              "2016-06-30    4.488571e+05\n",
              "2016-07-29    1.156286e+06\n",
              "2016-08-31    1.372857e+06\n",
              "2016-09-30    3.150000e+05\n",
              "2016-10-31    8.748571e+05\n",
              "2016-11-30    3.128571e+05\n",
              "2016-12-30    5.828571e+05\n",
              "2017-01-31    3.214286e+04\n",
              "2017-02-28    2.000000e+00\n",
              "2017-03-31    4.955714e+05\n",
              "2017-04-28    5.940000e+05\n",
              "2017-05-31    1.041143e+06\n",
              "2017-06-30    8.354286e+05\n",
              "2017-07-31    6.171429e+05\n",
              "2017-08-31    4.284286e+05\n",
              "2017-09-29    1.581258e+06\n",
              "2017-10-31    3.294286e+05\n",
              "2017-11-30    2.241429e+05\n",
              "2017-12-29    2.785714e+05\n",
              "2018-01-31    4.018571e+05\n",
              "2018-02-28    1.282857e+05\n",
              "2018-03-30    2.000000e+00\n",
              "2018-04-30    2.000000e+00\n",
              "2018-05-31    2.000000e+00\n",
              "2018-06-29    2.000000e+00\n",
              "2018-07-31    2.000000e+00\n",
              "2018-08-31    2.000000e+00\n",
              "2018-09-28    2.000000e+00\n",
              "2018-10-31    2.000000e+00\n",
              "2018-11-30    2.101429e+05\n",
              "2018-12-31    2.191571e+05\n",
              "2019-01-31    1.779286e+05\n",
              "2019-02-28    5.157143e+04\n",
              "Freq: BM, dtype: float64"
            ]
          },
          "metadata": {
            "tags": []
          },
          "execution_count": 33
        }
      ]
    },
    {
      "cell_type": "code",
      "metadata": {
        "id": "-m9oxCK7DKGl",
        "colab": {
          "base_uri": "https://localhost:8080/",
          "height": 342
        },
        "outputId": "8a98beb2-46f3-4661-82a1-c38affeee1d2"
      },
      "source": [
        "store_plot_279=store_279.plot()\n",
        "fig=store_plot_279.get_figure()\n",
        "fig.set_size_inches(13.5,5)\n",
        "#2018년 3월-2018년 10월 휴업, 2019년 11월 영업 재개, 2019년 2월 매출 감소 \n",
        "#2019년 3-5월에는 휴업 예상"
      ],
      "execution_count": null,
      "outputs": [
        {
          "output_type": "display_data",
          "data": {
            "image/png": "[encoded data removed]",
            "text/plain": [
              "<Figure size 972x360 with 1 Axes>"
            ]
          },
          "metadata": {
            "tags": [],
            "needs_background": "light"
          }
        }
      ]
    },
    {
      "cell_type": "markdown",
      "metadata": {
        "id": "uliazf5P-W81"
      },
      "source": [
        "####**4.3.2 시계열 데이터의 정상성**\n",
        "정상성이란?\n",
        "- 추세나 계절성이 없는 시계열 데이터\n",
        "- 데이터가 시간의 변동에 따라 평균과 분산이 일정\n",
        "\n",
        ".\n",
        "#####시계열 데이터의 정상성을 판단하기 위해 **ADF-Test**사용 \n",
        "이후 **차분(differencing)**을 통해 비정상 시계열을 평균이 일정한 정상 시계열로 변환하는 작업"
      ]
    },
    {
      "cell_type": "code",
      "metadata": {
        "id": "WbfIjIv4EEko",
        "colab": {
          "base_uri": "https://localhost:8080/",
          "height": 342
        },
        "outputId": "ec3af214-689e-4ed9-865c-181b43bde9b1"
      },
      "source": [
        "# 정상 시계열인 0번 상점 시계열 그래프\n",
        "store_0=time_series(resampling_data,0)\n",
        "store_plot_0=store_0.plot()\n",
        "fig=store_plot_0.get_figure()\n",
        "fig.set_size_inches(13.5,5)\n",
        "#매출액 시계열의 평균과 분산이 일정"
      ],
      "execution_count": null,
      "outputs": [
        {
          "output_type": "display_data",
          "data": {
            "image/png": "[encoded data removed]",
            "text/plain": [
              "<Figure size 972x360 with 1 Axes>"
            ]
          },
          "metadata": {
            "tags": [],
            "needs_background": "light"
          }
        }
      ]
    },
    {
      "cell_type": "code",
      "metadata": {
        "id": "wqcqV6XjRS1B",
        "colab": {
          "base_uri": "https://localhost:8080/",
          "height": 342
        },
        "outputId": "4b455a10-e250-4b48-fb4c-8b0376ef0d0d"
      },
      "source": [
        "# 정상 시계열인 257번 상점 시계열 그래프\n",
        "store_257=time_series(resampling_data,257)\n",
        "store_plot_257=store_257.plot()\n",
        "fig=store_plot_257.get_figure()\n",
        "fig.set_size_inches(13.5,5)\n",
        "#계절성을 띠고 평균과 분산의 변동 폭이 큼"
      ],
      "execution_count": null,
      "outputs": [
        {
          "output_type": "display_data",
          "data": {
            "image/png": "[encoded data removed]",
            "text/plain": [
              "<Figure size 972x360 with 1 Axes>"
            ]
          },
          "metadata": {
            "tags": [],
            "needs_background": "light"
          }
        }
      ]
    },
    {
      "cell_type": "markdown",
      "metadata": {
        "id": "sKfSBFTwR2hg"
      },
      "source": [
        "#####**ADF-Test**\n",
        "통계학에서 시행하는 가설 검정 절차 따름\n",
        "- **귀무 가설** : 시계열 자료가 정상 시계열이 아니다.\n",
        "- **대립 가설** : 시계열 자료가 정상성을 만족한다. "
      ]
    },
    {
      "cell_type": "code",
      "metadata": {
        "id": "5Q9WxlbTShEs",
        "colab": {
          "base_uri": "https://localhost:8080/",
          "height": 148
        },
        "outputId": "c99aa416-eaa4-4420-e565-efd20e9d739e"
      },
      "source": [
        "'''코랩에서는 pmdarima가 import 되지 않네요. 이 부분은 코드만 한번 봐주세요!\n",
        "\n",
        "from pmdarima.arima import ADFTest\n",
        "#pmdarima 패키지에 있는 ADFTest 클래스를 임포트\n",
        "\n",
        "#상점 아이다가 0번인 데이터를 시리즈 객체로 변환\n",
        "store_0=time_series(resampling_data,0)\n",
        "p_val,should_diff=ADFTest().should_diff(store_0)\n",
        "print('p_val : %f , should_diff : %s' %(p_val,should_diff))\n",
        "\n",
        "out: \n",
        "p_val: 0.022488, should_diff: False\n",
        "\n",
        "#상점 아이디가 257번인 데이터를 시리즈 객체로 변환\n",
        "store_257=time_series(resampling_data,257)\n",
        "p_val,should_diff=ADFTest().should_diff(store_257)\n",
        "print('p_val : %f , should_diff : %s' %(p_val,should_diff))\n",
        "\n",
        "out:\n",
        "p_val: 0.093614, should_diff: True\n",
        "\n",
        "#should_diff 차분여부 나타냄\n",
        "#p_val 값이 기준점인 0.05보다 낮으면 대립가설 채택\n",
        "#p_val 값이 기준점인 0.05보다 높으면 귀무가설 채택 -> 정상시계열이 아니며, 차분이 필요\n",
        "\n",
        "'''"
      ],
      "execution_count": null,
      "outputs": [
        {
          "output_type": "execute_result",
          "data": {
            "application/vnd.google.colaboratory.intrinsic+json": {
              "type": "string"
            },
            "text/plain": [
              "\"코랩에서는 pmdarimam가 import 되지 않네요. 이 부분은 코드만 한번 봐주세요!\\n\\nFrom pmdarima ARIMA import ADFTest\\n#pmdarima 패키지에 있는 ADFTest 클래스를 임포트\\n\\n#상점 아이다가 0번인 데이터를 시리즈 객체로 변환\\nstore_0=time_series(resampling_data,0)\\np_val,should_diff=ADFTest().should_diff(store_0)\\nprint('p_val : %f , should_diff : %s' %(p_val,should_diff))\\n\\nout: \\np_val: 0.022488, should_diff: False\\n\\n#상점 아이디가 257번인 데이터를 시리즈 객체로 변환\\nstore_257=time_series(resampling_data,257)\\np_val,should_diff=ADFTest().should_diff(store_257)\\nprint('p_val : %f , should_diff : %s' %(p_val,should_diff))\\n\\nout:\\np_val: 0.093614, should_diff: True\\n\\n#should_diff 차분여부 나타냄\\n#p_val 값이 기준점인 0.05보다 낮으면 대립가설 채택\\n#p_val 값이 기준점인 0.05보다 높으면 귀무가설 채택 -> 정상시계열이 아니며, 차분이 필요함\\n\\n\""
            ]
          },
          "metadata": {
            "tags": []
          },
          "execution_count": 37
        }
      ]
    },
    {
      "cell_type": "code",
      "metadata": {
        "id": "wfLhWgy_ZJ0W",
        "colab": {
          "base_uri": "https://localhost:8080/",
          "height": 167
        },
        "outputId": "9cb5f82e-2b49-4ee4-9343-f5099c5e970b"
      },
      "source": [
        "'''\n",
        "# 1,967개 상점의 ADF_Test의 p-value값을 파이썬의 리스트 자료형에 저장하고 상자그림으로 p-value값 분포 확인\n",
        "# p-value가 0.05보다 작은 상점 개수 계싼\n",
        "#매출이 수개월간 발생하지 않은 상점은 ADF-Test가 오류발생해 예외처리\n",
        "\n",
        "#ARIMA 모델의 차분 여분을 결정하기 위한 단위근 검정\n",
        "def adf_test(y):\n",
        "  return ADFTest().should_diff(y)[0]\n",
        "\n",
        "#전체 상점 adf_test p-value값을 리스트에 저장해 boxplot\n",
        "adf_p=[]\n",
        "count=0\n",
        "skipped=[]\n",
        "for i in tqdm(resampling_data['store_id'].unique()):\n",
        "    ts=time_series(resampling_data,i)\n",
        "    try: \n",
        "      p_val = adf_test(ts)\n",
        "      if p_val < 0.05:\n",
        "        count+=1\n",
        "      adf_p.append(p_val)\n",
        "    except:\n",
        "      skipped.append(i)\n",
        "    \n",
        "plt.figure(figsize=(8, 4))    \n",
        "sns.boxplot(adf_p)\n",
        "\n",
        "print(count)\n",
        "\n",
        "#ADF-Test 오류 상점 개수\n",
        "if skipped:\n",
        "  print(f\"WarningCount: {len(skipped)},store_id_list{skipped}\")\n",
        "  \n",
        "\n",
        "#대부분 상점이 기준점인 0.05보다 p-value가 높은 것을 확인\n",
        "#시계열 모델링을 진행하기 전에 비정상 시계열 자료를 차분을 통해 장상 시계열로 변환\n",
        "'''"
      ],
      "execution_count": null,
      "outputs": [
        {
          "output_type": "execute_result",
          "data": {
            "application/vnd.google.colaboratory.intrinsic+json": {
              "type": "string"
            },
            "text/plain": [
              "'\\n# 1,967개 상점의 ADF_Test의 p-value값을 파이썬의 리스트 자료형에 저장하고 상자그림으로 p-value값 분포 확인\\n# p-value가 0.05보다 작은 상점 개수 계싼\\n#매출이 수개월간 발생하지 않은 상점은 ADF-Test가 오류발생해 예외처리\\n\\n#ARIMA 모델의 차분 여분을 결정하기 위한 단위근 검정\\ndef adf_test(y):\\n  return ADFTest().should_diff(y)[0]\\n\\n#전체 상점 adf_test p-value값을 리스트에 저장해 boxplot\\nadf_p=[]\\ncount=0\\nskipped=[]\\nfor i in tqdm(resampling_data[\\'store_id\\'].unique()):\\n    ts=time_series(resampling_data,i)\\n    try: \\n      p_val = adf_test(ts)\\n      if p_val < 0.05:\\n        count+=1\\n      adf_p.append(p_val)\\n    except:\\n      skipped.append(i)\\n    \\nplt.figure(figsize=(8, 4))    \\nsns.boxplot(adf_p)\\n\\nprint(count)\\n\\n#ADF-Test 오류 상점 개수\\nif skipped:\\n  print(f\"WarningCount: {len(skipped)},store_id_list{skipped}\")\\n  \\n\\n#대부분 상점이 기준점인 0.05보다 p-value가 높은 것을 확인\\n#시계열 모델링을 진행하기 전에 비정상 시계열 자료를 차분을 통해 장상 시계열로 변환\\n'"
            ]
          },
          "metadata": {
            "tags": []
          },
          "execution_count": 38
        }
      ]
    },
    {
      "cell_type": "markdown",
      "metadata": {
        "id": "f-yE3FJydZmD"
      },
      "source": [
        "##**4.4 모델 구축과 검증**\n"
      ]
    },
    {
      "cell_type": "markdown",
      "metadata": {
        "id": "vSyJQzMXdfzx"
      },
      "source": [
        "###**4.4.1 파이썬에서 R시계열 패키지 forecast를 통한 모델링**"
      ]
    },
    {
      "cell_type": "code",
      "metadata": {
        "id": "xY4EZz1dcoR2",
        "colab": {
          "base_uri": "https://localhost:8080/"
        },
        "outputId": "6043292a-e161-4497-afcb-b61271c5085d"
      },
      "source": [
        "from rpy2.robjects.packages import importr #R 패키지를 import\n",
        "import rpy2.robjects as robjects  ##R 함수를 쓰기위함\n",
        "from rpy2.robjects import pandas2ri ##pandas를 R 데이터로 형식으로 변환하기 위함\n",
        "\n",
        "\n",
        "utils=importr('utils')\n",
        "utils.install_packages('forecast')\n",
        "utils.install_packages('forecastHybrid')"
      ],
      "execution_count": null,
      "outputs": [
        {
          "output_type": "stream",
          "text": [
            "R[write to console]: Installing package into ‘/usr/local/lib/R/site-library’\n",
            "(as ‘lib’ is unspecified)\n",
            "\n",
            "R[write to console]: also installing the dependencies ‘xts’, ‘TTR’, ‘quadprog’, ‘quantmod’, ‘fracdiff’, ‘lmtest’, ‘timeDate’, ‘tseries’, ‘urca’, ‘zoo’, ‘RcppArmadillo’\n",
            "\n",
            "\n",
            "R[write to console]: trying URL 'https://cran.rstudio.com/src/contrib/xts_0.12.1.tar.gz'\n",
            "\n",
            "R[write to console]: Content type 'application/x-gzip'\n",
            "R[write to console]:  length 517875 bytes (505 KB)\n",
            "\n",
            "R[write to console]: =\n",
            "R[write to console]: =\n",
            "R[write to console]: =\n",
            "R[write to console]: =\n",
            "R[write to console]: =\n",
            "R[write to console]: =\n",
            "R[write to console]: =\n",
            "R[write to console]: =\n",
            "R[write to console]: =\n",
            "R[write to console]: =\n",
            "R[write to console]: =\n",
            "R[write to console]: =\n",
            "R[write to console]: =\n",
            "R[write to console]: =\n",
            "R[write to console]: =\n",
            "R[write to console]: =\n",
            "R[write to console]: =\n",
            "R[write to console]: =\n",
            "R[write to console]: =\n",
            "R[write to console]: =\n",
            "R[write to console]: =\n",
            "R[write to console]: =\n",
            "R[write to console]: =\n",
            "R[write to console]: =\n",
            "R[write to console]: =\n",
            "R[write to console]: =\n",
            "R[write to console]: =\n",
            "R[write to console]: =\n",
            "R[write to console]: =\n",
            "R[write to console]: =\n",
            "R[write to console]: =\n",
            "R[write to console]: =\n",
            "R[write to console]: =\n",
            "R[write to console]: =\n",
            "R[write to console]: =\n",
            "R[write to console]: =\n",
            "R[write to console]: =\n",
            "R[write to console]: =\n",
            "R[write to console]: =\n",
            "R[write to console]: =\n",
            "R[write to console]: =\n",
            "R[write to console]: =\n",
            "R[write to console]: =\n",
            "R[write to console]: =\n",
            "R[write to console]: =\n",
            "R[write to console]: =\n",
            "R[write to console]: =\n",
            "R[write to console]: =\n",
            "R[write to console]: =\n",
            "R[write to console]: =\n",
            "R[write to console]: \n",
            "\n",
            "R[write to console]: downloaded 505 KB\n",
            "\n",
            "\n",
            "R[write to console]: trying URL 'https://cran.rstudio.com/src/contrib/TTR_0.24.2.tar.gz'\n",
            "\n",
            "R[write to console]: Content type 'application/x-gzip'\n",
            "R[write to console]:  length 314035 bytes (306 KB)\n",
            "\n",
            "R[write to console]: =\n",
            "R[write to console]: =\n",
            "R[write to console]: =\n",
            "R[write to console]: =\n",
            "R[write to console]: =\n",
            "R[write to console]: =\n",
            "R[write to console]: =\n",
            "R[write to console]: =\n",
            "R[write to console]: =\n",
            "R[write to console]: =\n",
            "R[write to console]: =\n",
            "R[write to console]: =\n",
            "R[write to console]: =\n",
            "R[write to console]: =\n",
            "R[write to console]: =\n",
            "R[write to console]: =\n",
            "R[write to console]: =\n",
            "R[write to console]: =\n",
            "R[write to console]: =\n",
            "R[write to console]: =\n",
            "R[write to console]: =\n",
            "R[write to console]: =\n",
            "R[write to console]: =\n",
            "R[write to console]: =\n",
            "R[write to console]: =\n",
            "R[write to console]: =\n",
            "R[write to console]: =\n",
            "R[write to console]: =\n",
            "R[write to console]: =\n",
            "R[write to console]: =\n",
            "R[write to console]: =\n",
            "R[write to console]: =\n",
            "R[write to console]: =\n",
            "R[write to console]: =\n",
            "R[write to console]: =\n",
            "R[write to console]: =\n",
            "R[write to console]: =\n",
            "R[write to console]: =\n",
            "R[write to console]: =\n",
            "R[write to console]: =\n",
            "R[write to console]: =\n",
            "R[write to console]: =\n",
            "R[write to console]: =\n",
            "R[write to console]: =\n",
            "R[write to console]: =\n",
            "R[write to console]: =\n",
            "R[write to console]: =\n",
            "R[write to console]: =\n",
            "R[write to console]: =\n",
            "R[write to console]: =\n",
            "R[write to console]: \n",
            "\n",
            "R[write to console]: downloaded 306 KB\n",
            "\n",
            "\n",
            "R[write to console]: trying URL 'https://cran.rstudio.com/src/contrib/quadprog_1.5-8.tar.gz'\n",
            "\n",
            "R[write to console]: Content type 'application/x-gzip'\n",
            "R[write to console]:  length 36141 bytes (35 KB)\n",
            "\n",
            "R[write to console]: =\n",
            "R[write to console]: =\n",
            "R[write to console]: =\n",
            "R[write to console]: =\n",
            "R[write to console]: =\n",
            "R[write to console]: =\n",
            "R[write to console]: =\n",
            "R[write to console]: =\n",
            "R[write to console]: =\n",
            "R[write to console]: =\n",
            "R[write to console]: =\n",
            "R[write to console]: =\n",
            "R[write to console]: =\n",
            "R[write to console]: =\n",
            "R[write to console]: =\n",
            "R[write to console]: =\n",
            "R[write to console]: =\n",
            "R[write to console]: =\n",
            "R[write to console]: =\n",
            "R[write to console]: =\n",
            "R[write to console]: =\n",
            "R[write to console]: =\n",
            "R[write to console]: =\n",
            "R[write to console]: =\n",
            "R[write to console]: =\n",
            "R[write to console]: =\n",
            "R[write to console]: =\n",
            "R[write to console]: =\n",
            "R[write to console]: =\n",
            "R[write to console]: =\n",
            "R[write to console]: =\n",
            "R[write to console]: =\n",
            "R[write to console]: =\n",
            "R[write to console]: =\n",
            "R[write to console]: =\n",
            "R[write to console]: =\n",
            "R[write to console]: =\n",
            "R[write to console]: =\n",
            "R[write to console]: =\n",
            "R[write to console]: =\n",
            "R[write to console]: =\n",
            "R[write to console]: =\n",
            "R[write to console]: =\n",
            "R[write to console]: =\n",
            "R[write to console]: =\n",
            "R[write to console]: =\n",
            "R[write to console]: =\n",
            "R[write to console]: =\n",
            "R[write to console]: =\n",
            "R[write to console]: =\n",
            "R[write to console]: \n",
            "\n",
            "R[write to console]: downloaded 35 KB\n",
            "\n",
            "\n",
            "R[write to console]: trying URL 'https://cran.rstudio.com/src/contrib/quantmod_0.4.18.tar.gz'\n",
            "\n",
            "R[write to console]: Content type 'application/x-gzip'\n",
            "R[write to console]:  length 154512 bytes (150 KB)\n",
            "\n",
            "R[write to console]: =\n",
            "R[write to console]: =\n",
            "R[write to console]: =\n",
            "R[write to console]: =\n",
            "R[write to console]: =\n",
            "R[write to console]: =\n",
            "R[write to console]: =\n",
            "R[write to console]: =\n",
            "R[write to console]: =\n",
            "R[write to console]: =\n",
            "R[write to console]: =\n",
            "R[write to console]: =\n",
            "R[write to console]: =\n",
            "R[write to console]: =\n",
            "R[write to console]: =\n",
            "R[write to console]: =\n",
            "R[write to console]: =\n",
            "R[write to console]: =\n",
            "R[write to console]: =\n",
            "R[write to console]: =\n",
            "R[write to console]: =\n",
            "R[write to console]: =\n",
            "R[write to console]: =\n",
            "R[write to console]: =\n",
            "R[write to console]: =\n",
            "R[write to console]: =\n",
            "R[write to console]: =\n",
            "R[write to console]: =\n",
            "R[write to console]: =\n",
            "R[write to console]: =\n",
            "R[write to console]: =\n",
            "R[write to console]: =\n",
            "R[write to console]: =\n",
            "R[write to console]: =\n",
            "R[write to console]: =\n",
            "R[write to console]: =\n",
            "R[write to console]: =\n",
            "R[write to console]: =\n",
            "R[write to console]: =\n",
            "R[write to console]: =\n",
            "R[write to console]: =\n",
            "R[write to console]: =\n",
            "R[write to console]: =\n",
            "R[write to console]: =\n",
            "R[write to console]: =\n",
            "R[write to console]: =\n",
            "R[write to console]: =\n",
            "R[write to console]: =\n",
            "R[write to console]: =\n",
            "R[write to console]: =\n",
            "R[write to console]: \n",
            "\n",
            "R[write to console]: downloaded 150 KB\n",
            "\n",
            "\n",
            "R[write to console]: trying URL 'https://cran.rstudio.com/src/contrib/fracdiff_1.5-1.tar.gz'\n",
            "\n",
            "R[write to console]: Content type 'application/x-gzip'\n",
            "R[write to console]:  length 63764 bytes (62 KB)\n",
            "\n",
            "R[write to console]: =\n",
            "R[write to console]: =\n",
            "R[write to console]: =\n",
            "R[write to console]: =\n",
            "R[write to console]: =\n",
            "R[write to console]: =\n",
            "R[write to console]: =\n",
            "R[write to console]: =\n",
            "R[write to console]: =\n",
            "R[write to console]: =\n",
            "R[write to console]: =\n",
            "R[write to console]: =\n",
            "R[write to console]: =\n",
            "R[write to console]: =\n",
            "R[write to console]: =\n",
            "R[write to console]: =\n",
            "R[write to console]: =\n",
            "R[write to console]: =\n",
            "R[write to console]: =\n",
            "R[write to console]: =\n",
            "R[write to console]: =\n",
            "R[write to console]: =\n",
            "R[write to console]: =\n",
            "R[write to console]: =\n",
            "R[write to console]: =\n",
            "R[write to console]: =\n",
            "R[write to console]: =\n",
            "R[write to console]: =\n",
            "R[write to console]: =\n",
            "R[write to console]: =\n",
            "R[write to console]: =\n",
            "R[write to console]: =\n",
            "R[write to console]: =\n",
            "R[write to console]: =\n",
            "R[write to console]: =\n",
            "R[write to console]: =\n",
            "R[write to console]: =\n",
            "R[write to console]: =\n",
            "R[write to console]: =\n",
            "R[write to console]: =\n",
            "R[write to console]: =\n",
            "R[write to console]: =\n",
            "R[write to console]: =\n",
            "R[write to console]: =\n",
            "R[write to console]: =\n",
            "R[write to console]: =\n",
            "R[write to console]: =\n",
            "R[write to console]: =\n",
            "R[write to console]: =\n",
            "R[write to console]: =\n",
            "R[write to console]: \n",
            "\n",
            "R[write to console]: downloaded 62 KB\n",
            "\n",
            "\n",
            "R[write to console]: trying URL 'https://cran.rstudio.com/src/contrib/lmtest_0.9-38.tar.gz'\n",
            "\n",
            "R[write to console]: Content type 'application/x-gzip'\n",
            "R[write to console]:  length 227052 bytes (221 KB)\n",
            "\n",
            "R[write to console]: =\n",
            "R[write to console]: =\n",
            "R[write to console]: =\n",
            "R[write to console]: =\n",
            "R[write to console]: =\n",
            "R[write to console]: =\n",
            "R[write to console]: =\n",
            "R[write to console]: =\n",
            "R[write to console]: =\n",
            "R[write to console]: =\n",
            "R[write to console]: =\n",
            "R[write to console]: =\n",
            "R[write to console]: =\n",
            "R[write to console]: =\n",
            "R[write to console]: =\n",
            "R[write to console]: =\n",
            "R[write to console]: =\n",
            "R[write to console]: =\n",
            "R[write to console]: =\n",
            "R[write to console]: =\n",
            "R[write to console]: =\n",
            "R[write to console]: =\n",
            "R[write to console]: =\n",
            "R[write to console]: =\n",
            "R[write to console]: =\n",
            "R[write to console]: =\n",
            "R[write to console]: =\n",
            "R[write to console]: =\n",
            "R[write to console]: =\n",
            "R[write to console]: =\n",
            "R[write to console]: =\n",
            "R[write to console]: =\n",
            "R[write to console]: =\n",
            "R[write to console]: =\n",
            "R[write to console]: =\n",
            "R[write to console]: =\n",
            "R[write to console]: =\n",
            "R[write to console]: =\n",
            "R[write to console]: =\n",
            "R[write to console]: =\n",
            "R[write to console]: =\n",
            "R[write to console]: =\n",
            "R[write to console]: =\n",
            "R[write to console]: =\n",
            "R[write to console]: =\n",
            "R[write to console]: =\n",
            "R[write to console]: =\n",
            "R[write to console]: =\n",
            "R[write to console]: =\n",
            "R[write to console]: =\n",
            "R[write to console]: \n",
            "\n",
            "R[write to console]: downloaded 221 KB\n",
            "\n",
            "\n",
            "R[write to console]: trying URL 'https://cran.rstudio.com/src/contrib/timeDate_3043.102.tar.gz'\n",
            "\n",
            "R[write to console]: Content type 'application/x-gzip'\n",
            "R[write to console]:  length 314656 bytes (307 KB)\n",
            "\n",
            "R[write to console]: =\n",
            "R[write to console]: =\n",
            "R[write to console]: =\n",
            "R[write to console]: =\n",
            "R[write to console]: =\n",
            "R[write to console]: =\n",
            "R[write to console]: =\n",
            "R[write to console]: =\n",
            "R[write to console]: =\n",
            "R[write to console]: =\n",
            "R[write to console]: =\n",
            "R[write to console]: =\n",
            "R[write to console]: =\n",
            "R[write to console]: =\n",
            "R[write to console]: =\n",
            "R[write to console]: =\n",
            "R[write to console]: =\n",
            "R[write to console]: =\n",
            "R[write to console]: =\n",
            "R[write to console]: =\n",
            "R[write to console]: =\n",
            "R[write to console]: =\n",
            "R[write to console]: =\n",
            "R[write to console]: =\n",
            "R[write to console]: =\n",
            "R[write to console]: =\n",
            "R[write to console]: =\n",
            "R[write to console]: =\n",
            "R[write to console]: =\n",
            "R[write to console]: =\n",
            "R[write to console]: =\n",
            "R[write to console]: =\n",
            "R[write to console]: =\n",
            "R[write to console]: =\n",
            "R[write to console]: =\n",
            "R[write to console]: =\n",
            "R[write to console]: =\n",
            "R[write to console]: =\n",
            "R[write to console]: =\n",
            "R[write to console]: =\n",
            "R[write to console]: =\n",
            "R[write to console]: =\n",
            "R[write to console]: =\n",
            "R[write to console]: =\n",
            "R[write to console]: =\n",
            "R[write to console]: =\n",
            "R[write to console]: =\n",
            "R[write to console]: =\n",
            "R[write to console]: =\n",
            "R[write to console]: =\n",
            "R[write to console]: \n",
            "\n",
            "R[write to console]: downloaded 307 KB\n",
            "\n",
            "\n",
            "R[write to console]: trying URL 'https://cran.rstudio.com/src/contrib/tseries_0.10-48.tar.gz'\n",
            "\n",
            "R[write to console]: Content type 'application/x-gzip'\n",
            "R[write to console]:  length 170342 bytes (166 KB)\n",
            "\n",
            "R[write to console]: =\n",
            "R[write to console]: =\n",
            "R[write to console]: =\n",
            "R[write to console]: =\n",
            "R[write to console]: =\n",
            "R[write to console]: =\n",
            "R[write to console]: =\n",
            "R[write to console]: =\n",
            "R[write to console]: =\n",
            "R[write to console]: =\n",
            "R[write to console]: =\n",
            "R[write to console]: =\n",
            "R[write to console]: =\n",
            "R[write to console]: =\n",
            "R[write to console]: =\n",
            "R[write to console]: =\n",
            "R[write to console]: =\n",
            "R[write to console]: =\n",
            "R[write to console]: =\n",
            "R[write to console]: =\n",
            "R[write to console]: =\n",
            "R[write to console]: =\n",
            "R[write to console]: =\n",
            "R[write to console]: =\n",
            "R[write to console]: =\n",
            "R[write to console]: =\n",
            "R[write to console]: =\n",
            "R[write to console]: =\n",
            "R[write to console]: =\n",
            "R[write to console]: =\n",
            "R[write to console]: =\n",
            "R[write to console]: =\n",
            "R[write to console]: =\n",
            "R[write to console]: =\n",
            "R[write to console]: =\n",
            "R[write to console]: =\n",
            "R[write to console]: =\n",
            "R[write to console]: =\n",
            "R[write to console]: =\n",
            "R[write to console]: =\n",
            "R[write to console]: =\n",
            "R[write to console]: =\n",
            "R[write to console]: =\n",
            "R[write to console]: =\n",
            "R[write to console]: =\n",
            "R[write to console]: =\n",
            "R[write to console]: =\n",
            "R[write to console]: =\n",
            "R[write to console]: =\n",
            "R[write to console]: =\n",
            "R[write to console]: \n",
            "\n",
            "R[write to console]: downloaded 166 KB\n",
            "\n",
            "\n",
            "R[write to console]: trying URL 'https://cran.rstudio.com/src/contrib/urca_1.3-0.tar.gz'\n",
            "\n",
            "R[write to console]: Content type 'application/x-gzip'\n",
            "R[write to console]:  length 682935 bytes (666 KB)\n",
            "\n",
            "R[write to console]: =\n",
            "R[write to console]: =\n",
            "R[write to console]: =\n",
            "R[write to console]: =\n",
            "R[write to console]: =\n",
            "R[write to console]: =\n",
            "R[write to console]: =\n",
            "R[write to console]: =\n",
            "R[write to console]: =\n",
            "R[write to console]: =\n",
            "R[write to console]: =\n",
            "R[write to console]: =\n",
            "R[write to console]: =\n",
            "R[write to console]: =\n",
            "R[write to console]: =\n",
            "R[write to console]: =\n",
            "R[write to console]: =\n",
            "R[write to console]: =\n",
            "R[write to console]: =\n",
            "R[write to console]: =\n",
            "R[write to console]: =\n",
            "R[write to console]: =\n",
            "R[write to console]: =\n",
            "R[write to console]: =\n",
            "R[write to console]: =\n",
            "R[write to console]: =\n",
            "R[write to console]: =\n",
            "R[write to console]: =\n",
            "R[write to console]: =\n",
            "R[write to console]: =\n",
            "R[write to console]: =\n",
            "R[write to console]: =\n",
            "R[write to console]: =\n",
            "R[write to console]: =\n",
            "R[write to console]: =\n",
            "R[write to console]: =\n",
            "R[write to console]: =\n",
            "R[write to console]: =\n",
            "R[write to console]: =\n",
            "R[write to console]: =\n",
            "R[write to console]: =\n",
            "R[write to console]: =\n",
            "R[write to console]: =\n",
            "R[write to console]: =\n",
            "R[write to console]: =\n",
            "R[write to console]: =\n",
            "R[write to console]: =\n",
            "R[write to console]: =\n",
            "R[write to console]: =\n",
            "R[write to console]: =\n",
            "R[write to console]: \n",
            "\n",
            "R[write to console]: downloaded 666 KB\n",
            "\n",
            "\n",
            "R[write to console]: trying URL 'https://cran.rstudio.com/src/contrib/zoo_1.8-9.tar.gz'\n",
            "\n",
            "R[write to console]: Content type 'application/x-gzip'\n",
            "R[write to console]:  length 793891 bytes (775 KB)\n",
            "\n",
            "R[write to console]: =\n",
            "R[write to console]: =\n",
            "R[write to console]: =\n",
            "R[write to console]: =\n",
            "R[write to console]: =\n",
            "R[write to console]: =\n",
            "R[write to console]: =\n",
            "R[write to console]: =\n",
            "R[write to console]: =\n",
            "R[write to console]: =\n",
            "R[write to console]: =\n",
            "R[write to console]: =\n",
            "R[write to console]: =\n",
            "R[write to console]: =\n",
            "R[write to console]: =\n",
            "R[write to console]: =\n",
            "R[write to console]: =\n",
            "R[write to console]: =\n",
            "R[write to console]: =\n",
            "R[write to console]: =\n",
            "R[write to console]: =\n",
            "R[write to console]: =\n",
            "R[write to console]: =\n",
            "R[write to console]: =\n",
            "R[write to console]: =\n",
            "R[write to console]: =\n",
            "R[write to console]: =\n",
            "R[write to console]: =\n",
            "R[write to console]: =\n",
            "R[write to console]: =\n",
            "R[write to console]: =\n",
            "R[write to console]: =\n",
            "R[write to console]: =\n",
            "R[write to console]: =\n",
            "R[write to console]: =\n",
            "R[write to console]: =\n",
            "R[write to console]: =\n",
            "R[write to console]: =\n",
            "R[write to console]: =\n",
            "R[write to console]: =\n",
            "R[write to console]: =\n",
            "R[write to console]: =\n",
            "R[write to console]: =\n",
            "R[write to console]: =\n",
            "R[write to console]: =\n",
            "R[write to console]: =\n",
            "R[write to console]: =\n",
            "R[write to console]: =\n",
            "R[write to console]: =\n",
            "R[write to console]: =\n",
            "R[write to console]: \n",
            "\n",
            "R[write to console]: downloaded 775 KB\n",
            "\n",
            "\n",
            "R[write to console]: trying URL 'https://cran.rstudio.com/src/contrib/RcppArmadillo_0.10.4.0.0.tar.gz'\n",
            "\n",
            "R[write to console]: Content type 'application/x-gzip'\n",
            "R[write to console]:  length 1667929 bytes (1.6 MB)\n",
            "\n",
            "R[write to console]: =\n",
            "R[write to console]: =\n",
            "R[write to console]: =\n",
            "R[write to console]: =\n",
            "R[write to console]: =\n",
            "R[write to console]: =\n",
            "R[write to console]: =\n",
            "R[write to console]: =\n",
            "R[write to console]: =\n",
            "R[write to console]: =\n",
            "R[write to console]: =\n",
            "R[write to console]: =\n",
            "R[write to console]: =\n",
            "R[write to console]: =\n",
            "R[write to console]: =\n",
            "R[write to console]: =\n",
            "R[write to console]: =\n",
            "R[write to console]: =\n",
            "R[write to console]: =\n",
            "R[write to console]: =\n",
            "R[write to console]: =\n",
            "R[write to console]: =\n",
            "R[write to console]: =\n",
            "R[write to console]: =\n",
            "R[write to console]: =\n",
            "R[write to console]: =\n",
            "R[write to console]: =\n",
            "R[write to console]: =\n",
            "R[write to console]: =\n",
            "R[write to console]: =\n",
            "R[write to console]: =\n",
            "R[write to console]: =\n",
            "R[write to console]: =\n",
            "R[write to console]: =\n",
            "R[write to console]: =\n",
            "R[write to console]: =\n",
            "R[write to console]: =\n",
            "R[write to console]: =\n",
            "R[write to console]: =\n",
            "R[write to console]: =\n",
            "R[write to console]: =\n",
            "R[write to console]: =\n",
            "R[write to console]: =\n",
            "R[write to console]: =\n",
            "R[write to console]: =\n",
            "R[write to console]: =\n",
            "R[write to console]: =\n",
            "R[write to console]: =\n",
            "R[write to console]: =\n",
            "R[write to console]: =\n",
            "R[write to console]: \n",
            "\n",
            "R[write to console]: downloaded 1.6 MB\n",
            "\n",
            "\n",
            "R[write to console]: trying URL 'https://cran.rstudio.com/src/contrib/forecast_8.14.tar.gz'\n",
            "\n",
            "R[write to console]: Content type 'application/x-gzip'\n",
            "R[write to console]:  length 588088 bytes (574 KB)\n",
            "\n",
            "R[write to console]: =\n",
            "R[write to console]: =\n",
            "R[write to console]: =\n",
            "R[write to console]: =\n",
            "R[write to console]: =\n",
            "R[write to console]: =\n",
            "R[write to console]: =\n",
            "R[write to console]: =\n",
            "R[write to console]: =\n",
            "R[write to console]: =\n",
            "R[write to console]: =\n",
            "R[write to console]: =\n",
            "R[write to console]: =\n",
            "R[write to console]: =\n",
            "R[write to console]: =\n",
            "R[write to console]: =\n",
            "R[write to console]: =\n",
            "R[write to console]: =\n",
            "R[write to console]: =\n",
            "R[write to console]: =\n",
            "R[write to console]: =\n",
            "R[write to console]: =\n",
            "R[write to console]: =\n",
            "R[write to console]: =\n",
            "R[write to console]: =\n",
            "R[write to console]: =\n",
            "R[write to console]: =\n",
            "R[write to console]: =\n",
            "R[write to console]: =\n",
            "R[write to console]: =\n",
            "R[write to console]: =\n",
            "R[write to console]: =\n",
            "R[write to console]: =\n",
            "R[write to console]: =\n",
            "R[write to console]: =\n",
            "R[write to console]: =\n",
            "R[write to console]: =\n",
            "R[write to console]: =\n",
            "R[write to console]: =\n",
            "R[write to console]: =\n",
            "R[write to console]: =\n",
            "R[write to console]: =\n",
            "R[write to console]: =\n",
            "R[write to console]: =\n",
            "R[write to console]: =\n",
            "R[write to console]: =\n",
            "R[write to console]: =\n",
            "R[write to console]: =\n",
            "R[write to console]: =\n",
            "R[write to console]: =\n",
            "R[write to console]: \n",
            "\n",
            "R[write to console]: downloaded 574 KB\n",
            "\n",
            "\n",
            "R[write to console]: \n",
            "\n",
            "R[write to console]: \n",
            "R[write to console]: The downloaded source packages are in\n",
            "\t‘/tmp/RtmpLPoqxX/downloaded_packages’\n",
            "R[write to console]: \n",
            "R[write to console]: \n",
            "\n",
            "R[write to console]: Installing package into ‘/usr/local/lib/R/site-library’\n",
            "(as ‘lib’ is unspecified)\n",
            "\n",
            "R[write to console]: also installing the dependencies ‘SparseM’, ‘matrixcalc’, ‘RcppEigen’, ‘hts’, ‘iterators’, ‘thief’, ‘doParallel’, ‘foreach’\n",
            "\n",
            "\n",
            "R[write to console]: trying URL 'https://cran.rstudio.com/src/contrib/SparseM_1.81.tar.gz'\n",
            "\n",
            "R[write to console]: Content type 'application/x-gzip'\n",
            "R[write to console]:  length 735100 bytes (717 KB)\n",
            "\n",
            "R[write to console]: =\n",
            "R[write to console]: =\n",
            "R[write to console]: =\n",
            "R[write to console]: =\n",
            "R[write to console]: =\n",
            "R[write to console]: =\n",
            "R[write to console]: =\n",
            "R[write to console]: =\n",
            "R[write to console]: =\n",
            "R[write to console]: =\n",
            "R[write to console]: =\n",
            "R[write to console]: =\n",
            "R[write to console]: =\n",
            "R[write to console]: =\n",
            "R[write to console]: =\n",
            "R[write to console]: =\n",
            "R[write to console]: =\n",
            "R[write to console]: =\n",
            "R[write to console]: =\n",
            "R[write to console]: =\n",
            "R[write to console]: =\n",
            "R[write to console]: =\n",
            "R[write to console]: =\n",
            "R[write to console]: =\n",
            "R[write to console]: =\n",
            "R[write to console]: =\n",
            "R[write to console]: =\n",
            "R[write to console]: =\n",
            "R[write to console]: =\n",
            "R[write to console]: =\n",
            "R[write to console]: =\n",
            "R[write to console]: =\n",
            "R[write to console]: =\n",
            "R[write to console]: =\n",
            "R[write to console]: =\n",
            "R[write to console]: =\n",
            "R[write to console]: =\n",
            "R[write to console]: =\n",
            "R[write to console]: =\n",
            "R[write to console]: =\n",
            "R[write to console]: =\n",
            "R[write to console]: =\n",
            "R[write to console]: =\n",
            "R[write to console]: =\n",
            "R[write to console]: =\n",
            "R[write to console]: =\n",
            "R[write to console]: =\n",
            "R[write to console]: =\n",
            "R[write to console]: =\n",
            "R[write to console]: =\n",
            "R[write to console]: \n",
            "\n",
            "R[write to console]: downloaded 717 KB\n",
            "\n",
            "\n",
            "R[write to console]: trying URL 'https://cran.rstudio.com/src/contrib/matrixcalc_1.0-3.tar.gz'\n",
            "\n",
            "R[write to console]: Content type 'application/x-gzip'\n",
            "R[write to console]:  length 28499 bytes (27 KB)\n",
            "\n",
            "R[write to console]: =\n",
            "R[write to console]: =\n",
            "R[write to console]: =\n",
            "R[write to console]: =\n",
            "R[write to console]: =\n",
            "R[write to console]: =\n",
            "R[write to console]: =\n",
            "R[write to console]: =\n",
            "R[write to console]: =\n",
            "R[write to console]: =\n",
            "R[write to console]: =\n",
            "R[write to console]: =\n",
            "R[write to console]: =\n",
            "R[write to console]: =\n",
            "R[write to console]: =\n",
            "R[write to console]: =\n",
            "R[write to console]: =\n",
            "R[write to console]: =\n",
            "R[write to console]: =\n",
            "R[write to console]: =\n",
            "R[write to console]: =\n",
            "R[write to console]: =\n",
            "R[write to console]: =\n",
            "R[write to console]: =\n",
            "R[write to console]: =\n",
            "R[write to console]: =\n",
            "R[write to console]: =\n",
            "R[write to console]: =\n",
            "R[write to console]: =\n",
            "R[write to console]: =\n",
            "R[write to console]: =\n",
            "R[write to console]: =\n",
            "R[write to console]: =\n",
            "R[write to console]: =\n",
            "R[write to console]: =\n",
            "R[write to console]: =\n",
            "R[write to console]: =\n",
            "R[write to console]: =\n",
            "R[write to console]: =\n",
            "R[write to console]: =\n",
            "R[write to console]: =\n",
            "R[write to console]: =\n",
            "R[write to console]: =\n",
            "R[write to console]: =\n",
            "R[write to console]: =\n",
            "R[write to console]: =\n",
            "R[write to console]: =\n",
            "R[write to console]: =\n",
            "R[write to console]: =\n",
            "R[write to console]: =\n",
            "R[write to console]: \n",
            "\n",
            "R[write to console]: downloaded 27 KB\n",
            "\n",
            "\n",
            "R[write to console]: trying URL 'https://cran.rstudio.com/src/contrib/RcppEigen_0.3.3.9.1.tar.gz'\n",
            "\n",
            "R[write to console]: Content type 'application/x-gzip'\n",
            "R[write to console]:  length 1633360 bytes (1.6 MB)\n",
            "\n",
            "R[write to console]: =\n",
            "R[write to console]: =\n",
            "R[write to console]: =\n",
            "R[write to console]: =\n",
            "R[write to console]: =\n",
            "R[write to console]: =\n",
            "R[write to console]: =\n",
            "R[write to console]: =\n",
            "R[write to console]: =\n",
            "R[write to console]: =\n",
            "R[write to console]: =\n",
            "R[write to console]: =\n",
            "R[write to console]: =\n",
            "R[write to console]: =\n",
            "R[write to console]: =\n",
            "R[write to console]: =\n",
            "R[write to console]: =\n",
            "R[write to console]: =\n",
            "R[write to console]: =\n",
            "R[write to console]: =\n",
            "R[write to console]: =\n",
            "R[write to console]: =\n",
            "R[write to console]: =\n",
            "R[write to console]: =\n",
            "R[write to console]: =\n",
            "R[write to console]: =\n",
            "R[write to console]: =\n",
            "R[write to console]: =\n",
            "R[write to console]: =\n",
            "R[write to console]: =\n",
            "R[write to console]: =\n",
            "R[write to console]: =\n",
            "R[write to console]: =\n",
            "R[write to console]: =\n",
            "R[write to console]: =\n",
            "R[write to console]: =\n",
            "R[write to console]: =\n",
            "R[write to console]: =\n",
            "R[write to console]: =\n",
            "R[write to console]: =\n",
            "R[write to console]: =\n",
            "R[write to console]: =\n",
            "R[write to console]: =\n",
            "R[write to console]: =\n",
            "R[write to console]: =\n",
            "R[write to console]: =\n",
            "R[write to console]: =\n",
            "R[write to console]: =\n",
            "R[write to console]: =\n",
            "R[write to console]: =\n",
            "R[write to console]: \n",
            "\n",
            "R[write to console]: downloaded 1.6 MB\n",
            "\n",
            "\n",
            "R[write to console]: trying URL 'https://cran.rstudio.com/src/contrib/hts_6.0.1.tar.gz'\n",
            "\n",
            "R[write to console]: Content type 'application/x-gzip'\n",
            "R[write to console]:  length 994453 bytes (971 KB)\n",
            "\n",
            "R[write to console]: =\n",
            "R[write to console]: =\n",
            "R[write to console]: =\n",
            "R[write to console]: =\n",
            "R[write to console]: =\n",
            "R[write to console]: =\n",
            "R[write to console]: =\n",
            "R[write to console]: =\n",
            "R[write to console]: =\n",
            "R[write to console]: =\n",
            "R[write to console]: =\n",
            "R[write to console]: =\n",
            "R[write to console]: =\n",
            "R[write to console]: =\n",
            "R[write to console]: =\n",
            "R[write to console]: =\n",
            "R[write to console]: =\n",
            "R[write to console]: =\n",
            "R[write to console]: =\n",
            "R[write to console]: =\n",
            "R[write to console]: =\n",
            "R[write to console]: =\n",
            "R[write to console]: =\n",
            "R[write to console]: =\n",
            "R[write to console]: =\n",
            "R[write to console]: =\n",
            "R[write to console]: =\n",
            "R[write to console]: =\n",
            "R[write to console]: =\n",
            "R[write to console]: =\n",
            "R[write to console]: =\n",
            "R[write to console]: =\n",
            "R[write to console]: =\n",
            "R[write to console]: =\n",
            "R[write to console]: =\n",
            "R[write to console]: =\n",
            "R[write to console]: =\n",
            "R[write to console]: =\n",
            "R[write to console]: =\n",
            "R[write to console]: =\n",
            "R[write to console]: =\n",
            "R[write to console]: =\n",
            "R[write to console]: =\n",
            "R[write to console]: =\n",
            "R[write to console]: =\n",
            "R[write to console]: =\n",
            "R[write to console]: =\n",
            "R[write to console]: =\n",
            "R[write to console]: =\n",
            "R[write to console]: =\n",
            "R[write to console]: \n",
            "\n",
            "R[write to console]: downloaded 971 KB\n",
            "\n",
            "\n",
            "R[write to console]: trying URL 'https://cran.rstudio.com/src/contrib/iterators_1.0.13.tar.gz'\n",
            "\n",
            "R[write to console]: Content type 'application/x-gzip'\n",
            "R[write to console]:  length 288559 bytes (281 KB)\n",
            "\n",
            "R[write to console]: =\n",
            "R[write to console]: =\n",
            "R[write to console]: =\n",
            "R[write to console]: =\n",
            "R[write to console]: =\n",
            "R[write to console]: =\n",
            "R[write to console]: =\n",
            "R[write to console]: =\n",
            "R[write to console]: =\n",
            "R[write to console]: =\n",
            "R[write to console]: =\n",
            "R[write to console]: =\n",
            "R[write to console]: =\n",
            "R[write to console]: =\n",
            "R[write to console]: =\n",
            "R[write to console]: =\n",
            "R[write to console]: =\n",
            "R[write to console]: =\n",
            "R[write to console]: =\n",
            "R[write to console]: =\n",
            "R[write to console]: =\n",
            "R[write to console]: =\n",
            "R[write to console]: =\n",
            "R[write to console]: =\n",
            "R[write to console]: =\n",
            "R[write to console]: =\n",
            "R[write to console]: =\n",
            "R[write to console]: =\n",
            "R[write to console]: =\n",
            "R[write to console]: =\n",
            "R[write to console]: =\n",
            "R[write to console]: =\n",
            "R[write to console]: =\n",
            "R[write to console]: =\n",
            "R[write to console]: =\n",
            "R[write to console]: =\n",
            "R[write to console]: =\n",
            "R[write to console]: =\n",
            "R[write to console]: =\n",
            "R[write to console]: =\n",
            "R[write to console]: =\n",
            "R[write to console]: =\n",
            "R[write to console]: =\n",
            "R[write to console]: =\n",
            "R[write to console]: =\n",
            "R[write to console]: =\n",
            "R[write to console]: =\n",
            "R[write to console]: =\n",
            "R[write to console]: =\n",
            "R[write to console]: =\n",
            "R[write to console]: \n",
            "\n",
            "R[write to console]: downloaded 281 KB\n",
            "\n",
            "\n",
            "R[write to console]: trying URL 'https://cran.rstudio.com/src/contrib/thief_0.3.tar.gz'\n",
            "\n",
            "R[write to console]: Content type 'application/x-gzip'\n",
            "R[write to console]:  length 30917 bytes (30 KB)\n",
            "\n",
            "R[write to console]: =\n",
            "R[write to console]: =\n",
            "R[write to console]: =\n",
            "R[write to console]: =\n",
            "R[write to console]: =\n",
            "R[write to console]: =\n",
            "R[write to console]: =\n",
            "R[write to console]: =\n",
            "R[write to console]: =\n",
            "R[write to console]: =\n",
            "R[write to console]: =\n",
            "R[write to console]: =\n",
            "R[write to console]: =\n",
            "R[write to console]: =\n",
            "R[write to console]: =\n",
            "R[write to console]: =\n",
            "R[write to console]: =\n",
            "R[write to console]: =\n",
            "R[write to console]: =\n",
            "R[write to console]: =\n",
            "R[write to console]: =\n",
            "R[write to console]: =\n",
            "R[write to console]: =\n",
            "R[write to console]: =\n",
            "R[write to console]: =\n",
            "R[write to console]: =\n",
            "R[write to console]: =\n",
            "R[write to console]: =\n",
            "R[write to console]: =\n",
            "R[write to console]: =\n",
            "R[write to console]: =\n",
            "R[write to console]: =\n",
            "R[write to console]: =\n",
            "R[write to console]: =\n",
            "R[write to console]: =\n",
            "R[write to console]: =\n",
            "R[write to console]: =\n",
            "R[write to console]: =\n",
            "R[write to console]: =\n",
            "R[write to console]: =\n",
            "R[write to console]: =\n",
            "R[write to console]: =\n",
            "R[write to console]: =\n",
            "R[write to console]: =\n",
            "R[write to console]: =\n",
            "R[write to console]: =\n",
            "R[write to console]: =\n",
            "R[write to console]: =\n",
            "R[write to console]: =\n",
            "R[write to console]: =\n",
            "R[write to console]: \n",
            "\n",
            "R[write to console]: downloaded 30 KB\n",
            "\n",
            "\n",
            "R[write to console]: trying URL 'https://cran.rstudio.com/src/contrib/doParallel_1.0.16.tar.gz'\n",
            "\n",
            "R[write to console]: Content type 'application/x-gzip'\n",
            "R[write to console]:  length 37121 bytes (36 KB)\n",
            "\n",
            "R[write to console]: =\n",
            "R[write to console]: =\n",
            "R[write to console]: =\n",
            "R[write to console]: =\n",
            "R[write to console]: =\n",
            "R[write to console]: =\n",
            "R[write to console]: =\n",
            "R[write to console]: =\n",
            "R[write to console]: =\n",
            "R[write to console]: =\n",
            "R[write to console]: =\n",
            "R[write to console]: =\n",
            "R[write to console]: =\n",
            "R[write to console]: =\n",
            "R[write to console]: =\n",
            "R[write to console]: =\n",
            "R[write to console]: =\n",
            "R[write to console]: =\n",
            "R[write to console]: =\n",
            "R[write to console]: =\n",
            "R[write to console]: =\n",
            "R[write to console]: =\n",
            "R[write to console]: =\n",
            "R[write to console]: =\n",
            "R[write to console]: =\n",
            "R[write to console]: =\n",
            "R[write to console]: =\n",
            "R[write to console]: =\n",
            "R[write to console]: =\n",
            "R[write to console]: =\n",
            "R[write to console]: =\n",
            "R[write to console]: =\n",
            "R[write to console]: =\n",
            "R[write to console]: =\n",
            "R[write to console]: =\n",
            "R[write to console]: =\n",
            "R[write to console]: =\n",
            "R[write to console]: =\n",
            "R[write to console]: =\n",
            "R[write to console]: =\n",
            "R[write to console]: =\n",
            "R[write to console]: =\n",
            "R[write to console]: =\n",
            "R[write to console]: =\n",
            "R[write to console]: =\n",
            "R[write to console]: =\n",
            "R[write to console]: =\n",
            "R[write to console]: =\n",
            "R[write to console]: =\n",
            "R[write to console]: =\n",
            "R[write to console]: \n",
            "\n",
            "R[write to console]: downloaded 36 KB\n",
            "\n",
            "\n",
            "R[write to console]: trying URL 'https://cran.rstudio.com/src/contrib/foreach_1.5.1.tar.gz'\n",
            "\n",
            "R[write to console]: Content type 'application/x-gzip'\n",
            "R[write to console]:  length 87352 bytes (85 KB)\n",
            "\n",
            "R[write to console]: =\n",
            "R[write to console]: =\n",
            "R[write to console]: =\n",
            "R[write to console]: =\n",
            "R[write to console]: =\n",
            "R[write to console]: =\n",
            "R[write to console]: =\n",
            "R[write to console]: =\n",
            "R[write to console]: =\n",
            "R[write to console]: =\n",
            "R[write to console]: =\n",
            "R[write to console]: =\n",
            "R[write to console]: =\n",
            "R[write to console]: =\n",
            "R[write to console]: =\n",
            "R[write to console]: =\n",
            "R[write to console]: =\n",
            "R[write to console]: =\n",
            "R[write to console]: =\n",
            "R[write to console]: =\n",
            "R[write to console]: =\n",
            "R[write to console]: =\n",
            "R[write to console]: =\n",
            "R[write to console]: =\n",
            "R[write to console]: =\n",
            "R[write to console]: =\n",
            "R[write to console]: =\n",
            "R[write to console]: =\n",
            "R[write to console]: =\n",
            "R[write to console]: =\n",
            "R[write to console]: =\n",
            "R[write to console]: =\n",
            "R[write to console]: =\n",
            "R[write to console]: =\n",
            "R[write to console]: =\n",
            "R[write to console]: =\n",
            "R[write to console]: =\n",
            "R[write to console]: =\n",
            "R[write to console]: =\n",
            "R[write to console]: =\n",
            "R[write to console]: =\n",
            "R[write to console]: =\n",
            "R[write to console]: =\n",
            "R[write to console]: =\n",
            "R[write to console]: =\n",
            "R[write to console]: =\n",
            "R[write to console]: =\n",
            "R[write to console]: =\n",
            "R[write to console]: =\n",
            "R[write to console]: =\n",
            "R[write to console]: \n",
            "\n",
            "R[write to console]: downloaded 85 KB\n",
            "\n",
            "\n",
            "R[write to console]: trying URL 'https://cran.rstudio.com/src/contrib/forecastHybrid_5.0.19.tar.gz'\n",
            "\n",
            "R[write to console]: Content type 'application/x-gzip'\n",
            "R[write to console]:  length 592957 bytes (579 KB)\n",
            "\n",
            "R[write to console]: =\n",
            "R[write to console]: =\n",
            "R[write to console]: =\n",
            "R[write to console]: =\n",
            "R[write to console]: =\n",
            "R[write to console]: =\n",
            "R[write to console]: =\n",
            "R[write to console]: =\n",
            "R[write to console]: =\n",
            "R[write to console]: =\n",
            "R[write to console]: =\n",
            "R[write to console]: =\n",
            "R[write to console]: =\n",
            "R[write to console]: =\n",
            "R[write to console]: =\n",
            "R[write to console]: =\n",
            "R[write to console]: =\n",
            "R[write to console]: =\n",
            "R[write to console]: =\n",
            "R[write to console]: =\n",
            "R[write to console]: =\n",
            "R[write to console]: =\n",
            "R[write to console]: =\n",
            "R[write to console]: =\n",
            "R[write to console]: =\n",
            "R[write to console]: =\n",
            "R[write to console]: =\n",
            "R[write to console]: =\n",
            "R[write to console]: =\n",
            "R[write to console]: =\n",
            "R[write to console]: =\n",
            "R[write to console]: =\n",
            "R[write to console]: =\n",
            "R[write to console]: =\n",
            "R[write to console]: =\n",
            "R[write to console]: =\n",
            "R[write to console]: =\n",
            "R[write to console]: =\n",
            "R[write to console]: =\n",
            "R[write to console]: =\n",
            "R[write to console]: =\n",
            "R[write to console]: =\n",
            "R[write to console]: =\n",
            "R[write to console]: =\n",
            "R[write to console]: =\n",
            "R[write to console]: =\n",
            "R[write to console]: =\n",
            "R[write to console]: =\n",
            "R[write to console]: =\n",
            "R[write to console]: =\n",
            "R[write to console]: \n",
            "\n",
            "R[write to console]: downloaded 579 KB\n",
            "\n",
            "\n",
            "R[write to console]: \n",
            "\n",
            "R[write to console]: \n",
            "R[write to console]: The downloaded source packages are in\n",
            "\t‘/tmp/RtmpLPoqxX/downloaded_packages’\n",
            "R[write to console]: \n",
            "R[write to console]: \n",
            "\n"
          ],
          "name": "stderr"
        },
        {
          "output_type": "execute_result",
          "data": {
            "text/plain": [
              "<rpy2.rinterface_lib.sexp.NULLType object at 0x7f13a20123c0> [RTYPES.NILSXP]"
            ]
          },
          "metadata": {
            "tags": []
          },
          "execution_count": 39
        }
      ]
    },
    {
      "cell_type": "code",
      "metadata": {
        "id": "gABsXTjmeHXl",
        "colab": {
          "base_uri": "https://localhost:8080/",
          "height": 36
        },
        "outputId": "bff5df47-d6a9-4dc8-9e25-ce231ac7b8f6"
      },
      "source": [
        "#r의 forecast 패키지를 이용해 상점 아이디가 0번인 상점에 대해 ARIMA모델 예측값 생성 예시\n",
        "pandas2ri.activate()\n",
        "auto_arima=\"\"\"\n",
        "    function(ts){\n",
        "      library(forecast)#forecast 패키지 로드 \n",
        "      d_params=ndiffs(ts)#시계열 자료의 차분 횟수 계산\n",
        "      model=auto.arima(ts,max.p=2,d=d_params)#auto.arima모델 생성\n",
        "      forecasted_data=forecast(model,h=3)#이후 3월(h=3)을 예측\n",
        "      out_df=data.frame(forecasted_data$mean)#예측값을 R의 데이터프레임으로 변환\n",
        "      colnames(out_df)=c('amount')#amount라는 열로 이름 지정\n",
        "      out_df\n",
        "    }\n",
        "\"\"\"\n",
        "\n",
        "#r()함수로 r자료형을 파이썬에서 사용 가능\n",
        "auto_arima=robjects.r(auto_arima)\n",
        "ts=robjects.r('ts')#r자료형 time series자료형으로 만들어주는 함수\n",
        "c=robjects.r('c')#r자료형 벡터를 만들어주는 함수\n",
        "\n",
        "store_0=resampling_data[resampling_data['store_id']==0]\n",
        "start_year=int(min(store_0['year_month'])[:4])#영업 시작 년도\n",
        "start_month=int(min(store_0['year_month'])[5:])#영업 시작 월\n",
        "\n",
        "#R의 ts함수로 r의 time series 자료형으로 변환\n",
        "train=ts(store_0['amount'],start=c(start_year,start_month),frequency=12)\n",
        "\n",
        "'''\n",
        "#ensemble model\n",
        "forecast=auto_arima(train)\n",
        "np.sum(pandas2ri.ri2py(forecast).values)#3개월 매출을 합산'''\n",
        "\n",
        "#np.sum(pandas2ri.ri2py(forecast).values)\n",
        "#ri2py 부분이 작동 되지 않음, 앞에서 pmdarimam도 import 되지 않는 것으로 보아 \n",
        "#코랩에서 실습하기에 적절하지 않아 보임\n",
        "# 다른 코드들을 참고하여 다른 방법을 시도해봐야할 것으로 보임\n",
        "\n"
      ],
      "execution_count": null,
      "outputs": [
        {
          "output_type": "execute_result",
          "data": {
            "application/vnd.google.colaboratory.intrinsic+json": {
              "type": "string"
            },
            "text/plain": [
              "'\\n#ensemble model\\nforecast=auto_arima(train)\\nnp.sum(pandas2ri.ri2py(forecast).values)#3개월 매출을 합산'"
            ]
          },
          "metadata": {
            "tags": []
          },
          "execution_count": 40
        }
      ]
    },
    {
      "cell_type": "markdown",
      "metadata": {
        "id": "NkeLZbVnnKmK"
      },
      "source": [
        "###**4.4.2 시계열 모델 선택과 검증**\n"
      ]
    },
    {
      "cell_type": "markdown",
      "metadata": {
        "id": "DfjCOUeUnVHt"
      },
      "source": [
        "####**자기회귀누적이동평균(ARIMA) 모델**\n",
        "\n",
        "        -> AR모델과 MA모델을 섞은 모델\n",
        "        -> 두 모델을 결합하면 분석의 정확도 상승, 수식 쉽게 결합\n",
        "        -> 시계열 데이터가 정상성인 경우 주로 적용\n",
        "        -> 초기 차분 단계를 한 번 이상 적용해 비정상성 제거\n",
        "\n",
        "    AR모델: 자기회귀 모델(자신의 이전 관측값이 자신의 이후 관측값에 영향을 주는 모델\n",
        "    MA모델: 이동평균 과정(현재 시계열 데이터가 과거 잔차들의 가중평균으로 구성)\n",
        "\n"
      ]
    },
    {
      "cell_type": "code",
      "metadata": {
        "id": "KiHIN7kdfaHg",
        "colab": {
          "base_uri": "https://localhost:8080/"
        },
        "outputId": "7aaf50c7-4a7b-45b2-9719-52aa95ffe7e5"
      },
      "source": [
        "final_pred=[]\n",
        "\n",
        "for i in tqdm(resampling_data.store_id.unique()):\n",
        "    pred=[]\n",
        "    \n",
        "    store=resampling_data[resampling_data['store_id']==i]\n",
        "    start_year=int(min(store['year_month'])[:4]) ##영업 시작 년도\n",
        "    start_month=int(min(store['year_month'])[5:]) ##영업 시작 월\n",
        "    #R의 ts함수로 time series데이터로 변환\n",
        "    train=ts(store['amount'],start=c(start_year,start_month),frequency=12)\n",
        "    #자동회귀누적이동평균 model\n",
        "    forecast=auto_arima(train)\n",
        "\n",
        "    \n",
        "    #3월 매출을 합산, final_pred에 추가\n",
        "    # final_pred.append(np.sum(pandas2ri.ri2py(forecast).values))\n"
      ],
      "execution_count": null,
      "outputs": [
        {
          "output_type": "stream",
          "text": [
            "\r  0%|          | 0/1967 [00:00<?, ?it/s]R[write to console]: Registered S3 method overwritten by 'quantmod':\n",
            "  method            from\n",
            "  as.zoo.data.frame zoo \n",
            "\n",
            "R[write to console]: This is forecast 8.14 \n",
            "  Stackoverflow is a great place to get help on R issues:\n",
            "  http://stackoverflow.com/tags/forecasting+r.\n",
            "\n",
            "100%|██████████| 1967/1967 [04:37<00:00,  7.08it/s]\n"
          ],
          "name": "stderr"
        }
      ]
    },
    {
      "cell_type": "markdown",
      "metadata": {
        "id": "auta6IVEteY5"
      },
      "source": [
        "#####**지수평활법**\n",
        "- 단순 지수평활법 \n",
        "          -> 가장 최근 관측값 가장 중요하게 생각\n",
        "          -> 이전의 모든 관측값은 미래를 예측할 때 아무런 정보도 주지 않는다고 가정\n",
        "          -> 미래 예측할때 가장 최근에 관측된 값에 더 많은 가중치\n",
        "          -> 추세나 계절성이 없을 때 주로 사용\n",
        "- 홀트의 선형추세 기법\n",
        "          ->추세가 있는 데이터 예측\n",
        "          -> 단순 지수평활법 확장\n",
        "          ->예측식과 두개의 평활식 포함\n",
        "          "
      ]
    },
    {
      "cell_type": "markdown",
      "metadata": {
        "id": "kSnkSkwetnqK"
      },
      "source": [
        "#####**STL 분해를 적용한 지수평활법**\n",
        "          -> 시계열 데이터가 가진 시간 주기를 알고 있는 경우 시계열 데이터를 계절성과 추세, 나머지 성분으로 분해해 분석하는 기법\n",
        "          -> STL(실제 관측값= 취세+계절성+나머지 성분) 분해 이유: 매출의 전반적인 트렌드, 계절성 등을 고려해야 정확한 모델을 만들 수 있음"
      ]
    },
    {
      "cell_type": "markdown",
      "metadata": {
        "id": "EirEqAeBvn0j"
      },
      "source": [
        "##**4.5 성능 향상을 위한 방법**\n",
        "- 데이터 전처리를 통한 성능 향상\n",
        "- 여러 모델을 결합해서 예측을 시도하는 앙상블\n",
        "   \n"
      ]
    },
    {
      "cell_type": "markdown",
      "metadata": {
        "id": "-N6etBcUvy2r"
      },
      "source": [
        "###**4.5.1 상점 매출액의 로그 정규화**\n",
        "- 매출액의 작은 변동을 안정화해 더 큰 트렌드 파악하기 위해"
      ]
    },
    {
      "cell_type": "markdown",
      "metadata": {
        "id": "62-hFZZfxQbi"
      },
      "source": [
        "###**4.5.2 파이썬에서 R시계열 패키지 forecastHybird를 통한 앙상블**\n",
        "- 자기회귀누적이동평균 모델, 지수평활법, STL분해를 적용한 지수평활법으로 3개의 예측치 생성\n",
        "-평균값을 구해 최종 매출액 계산"
      ]
    },
    {
      "cell_type": "markdown",
      "metadata": {
        "id": "OqoVYN_3yDKy"
      },
      "source": [
        "##**정리**"
      ]
    },
    {
      "cell_type": "markdown",
      "metadata": {
        "id": "FBVZ-TAlyIrT"
      },
      "source": [
        "- 대회 참가하기전 경진대회와 관련된 사전 도메인 공부 추천\n",
        "<hr>\n",
        "- 관련 논문 리뷰, 관련 분야 전문가 인터뷰를 통해 사전 도메인을 알면 데이터 전처리와 파생 변수 생성, 모델 적용 과정 훨씬 수월\n",
        "<hr>\n",
        "- [데이콘 코드 공유](https://dacon.io/competitions/official/140472/codeshare/?page=2&dtype=recent&ptype=pub) 다른 코랩으로 잘 실행되지 않는 코드들이 있으므로 베이스라인과 참가자들의 코드도 확인하여 작성해보길 추천 & 수상자의 코드 설명 영상 참고 \n",
        "<hr>\n",
        "\n"
      ]
    },
    {
      "cell_type": "code",
      "metadata": {
        "id": "-JJlFQKQ0drF"
      },
      "source": [
        ""
      ],
      "execution_count": null,
      "outputs": []
    }
  ]
}